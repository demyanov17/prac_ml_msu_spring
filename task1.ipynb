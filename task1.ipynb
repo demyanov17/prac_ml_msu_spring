{
 "cells": [
  {
   "cell_type": "markdown",
   "metadata": {},
   "source": [
    "# 1 практическое задание. Полносвязная нейронная сеть на `numpy`.\n",
    "\n",
    "## Практикум на ЭВМ для 317 группы, весна 2021\n",
    "\n",
    "#### Фамилия, имя: Демьянов Иван\n",
    "\n",
    "Дата выдачи: <span style=\"color:red\">__17 февраля 03:00__</span>.\n",
    "\n",
    "Мягкий дедлайн: <span style=\"color:red\">__10 марта 23:59__</span>.\n",
    "\n",
    "Стоимость: __10 баллов__ (основная часть заданий) + __3 балла__ (дополнительные задания).\n",
    "\n",
    "<span style=\"color:red\">__В ноутбуке все клетки должны выполняться без ошибок при последовательном их выполнении.__</span>"
   ]
  },
  {
   "cell_type": "code",
   "execution_count": 1,
   "metadata": {
    "ExecuteTime": {
     "end_time": "2021-03-03T14:44:48.909044Z",
     "start_time": "2021-03-03T14:44:48.683650Z"
    }
   },
   "outputs": [],
   "source": [
    "import numpy as np"
   ]
  },
  {
   "cell_type": "markdown",
   "metadata": {},
   "source": [
    "## Теоретическая часть (3 балла)"
   ]
  },
  {
   "cell_type": "markdown",
   "metadata": {},
   "source": [
    "В этом блоке вам нужно решить 3 задания."
   ]
  },
  {
   "cell_type": "markdown",
   "metadata": {},
   "source": [
    "### Задание 1. Градиенты для слоя Batch normalization (1.5 балла)\n",
    "\n",
    "Рассмотрим слой Batch normalization. Пусть на вход этого слоя был подан батч из $n$ объектов, при этом у всех объектов по 1 признаку. Представим вход BN слоя в виде $X \\in \\mathbb{R}^{n \\times 1}$.\n",
    "\n",
    "Тогда в этом слое производятся следующие вычисления:\n",
    "\n",
    "$$ \\mu = \\frac1n \\sum_{i=1}^{n} X_i $$\n",
    "\n",
    "$$ \\sigma^2 = \\frac1n \\sum_{i=1}^{n} \\left( X_i - \\mu \\right) ^2 $$\n",
    "\n",
    "$$ \\tilde{y_i} = \\frac{X_i - \\mu}{\\sqrt{\\sigma^2 + \\varepsilon}} $$\n",
    "\n",
    "$$ y_i = \\gamma \\tilde{y_i} + \\delta $$\n",
    "\n",
    "Выходом BN слоя является $y_i$, а $\\gamma$ и $\\delta$ в нем — параметры, которые подбираются во время обучения вместе с другими параметрами нейронной сети (наряду, например, с весами линейного слоя).\n",
    "\n",
    "Рассмотрим нейронную сеть, в которой есть BN слой. Предположим, что вычисления в нейронной завершаются подсчетом функции потерь $\\mathcal{L}$. Пусть мы выполнили прямой проход по нейронной сети и сейчас делаем обратный проход с помощью метода обратного распространения ошибки. Пусть BN слою пришел градиент функции потерь по выходу BN слоя ($\\nabla_{y} \\mathcal{L}$).\n",
    "\n",
    "В этом задании вам нужно записать вычисление градиента функции потерь по параметрам слоя BN $\\gamma$ и $\\delta$ ($\\nabla_{\\gamma} \\mathcal{L}$, $\\nabla_{\\delta} \\mathcal{L}$) через $\\nabla_{y} \\mathcal{L}$, а также вам нужно записать вычисление градиента функции потерь по входу слоя BN $X$ ($\\nabla_{X} \\mathcal{L}$) через $\\nabla_{y} \\mathcal{L}$.\n",
    "\n",
    "Хочу заметить, в данном задании мы рассматриваем объекты всего с 1 признаком, чтобы упростить выкладки."
   ]
  },
  {
   "cell_type": "markdown",
   "metadata": {},
   "source": [
    "__Ваше решение:__\n",
    "\n",
    "Запишем вычисления выше в векторном виде:\n",
    "$$ \\mu = \\frac1n X^T I$$\n",
    "\n",
    "$$ \\sigma^2 = \\frac1n (X - I\\mu)^T (X - I\\mu) $$\n",
    "\n",
    "$$ \\tilde{y} = \\frac{X - I\\mu}{\\sqrt{\\sigma^2 + \\varepsilon}} $$\n",
    "\n",
    "$$ y = \\gamma \\tilde{y} + \\delta,\\quad$$ где $I$ - единичный вектор-столбец.\n",
    "\n",
    "Далее вычислим $dy$ и преобразуем его к каноническому виду:\n",
    "\n",
    "$$dy = \\tilde{y} d\\gamma + \\gamma d\\tilde{y} + I d \\delta$$\n",
    "\n",
    "Для этого нам необходимо натйи $d\\tilde{y}$:\n",
    "\n",
    "$$d\\tilde{y} = \\frac{\\sqrt{\\sigma^2 + \\varepsilon}*d(X - I\\mu) - d(\\sqrt{\\sigma^2 + \\varepsilon})*(X - I\\mu)}{\\sigma^2 + \\varepsilon}$$\n",
    "\n",
    "Найдем постепенно дифференциалы, составляющие это равенство:\n",
    "\n",
    "$$d \\mu = d(\\frac{X^T*I}{n}) = \\frac{(dX)^T*I}{n}$$\n",
    "\n",
    "$$d(X - I\\mu) = dX - Id\\mu = dX - \\frac{I(dX)^TI}{n}$$\n",
    "\n",
    "$$d(\\sqrt{\\sigma^2 + \\varepsilon}) = \\frac{d\\sigma^2}{2\\sqrt{\\sigma^2 + \\varepsilon}}$$\n",
    "\n",
    "$$d\\sigma^2 = \\frac{1}{n}(d(X - I\\mu)^T (X-I\\mu) + (X-I\\mu)^Td(X-I\\mu)),\\quad d(X - I\\mu)^T = (dX - Id\\mu)^T$$\n",
    "\n",
    "После предварительных вычислений и преобразований некоторых дифференциалов $d\\tilde{y}$ имеет следующий вид:\n",
    "\n",
    "$$d\\tilde{y} = \\frac{(dX - \\frac{II^TdX}{n})}{\\sqrt{\\sigma^2 + \\varepsilon}} - \\frac{((dX-\\frac{1}{n}II^TdX)^T(X-I\\mu) + (X - U\\mu)^T(dX - \\frac{1}{n}II^TdX))(X-I\\mu)}{2n(\\sigma^2 + \\varepsilon)\\sqrt{\\sigma^2 + \\varepsilon}}$$\n",
    "\n",
    "Далее преобразовав равенство для $d\\tilde{y}$, получим следующее:\n",
    "\n",
    "$$d\\tilde{y} = (E - \\frac{(X-I\\mu)(X-I\\mu)^T}{n(\\sigma^2 + \\varepsilon)})\\frac{(E - \\frac{1}{n}II^T)}{\\sqrt{\\sigma^2 + \\varepsilon}}dX$$\n",
    "\n",
    "Все необходимые дифференциалы найдены, поэтому запишем $d\\mathcal{L}$ двумя способами и найдем искомые градиенты:\n",
    "\n",
    "$$d\\mathcal{L} = \\nabla_y\\mathcal{L}^Tdy = \\nabla_y\\mathcal{L}^T\\tilde{y} d\\gamma + \\nabla_y\\mathcal{L}^T\\gamma d\\tilde{y} + \\nabla_y\\mathcal{L}^TI d \\delta$$\n",
    "\n",
    "Учитывая каноническую форму градиента, приходим к следующему __ответу:__\n",
    "\n",
    "$$\\nabla_\\gamma\\mathcal{L} = \\tilde{y}^T\\nabla_y\\mathcal{L}$$\n",
    "\n",
    "$$\\nabla_\\delta\\mathcal{L} = I^T\\nabla_y\\mathcal{L}$$\n",
    "\n",
    "$$\\nabla_x\\mathcal{L} = \\gamma\\frac{(E - \\frac{1}{n}II^T)}{\\sqrt{\\sigma^2 + \\varepsilon}}(E - \\frac{(X-I\\mu)(X-I\\mu)^T}{n(\\sigma^2 + \\varepsilon)})\\nabla_y\\mathcal{L}$$"
   ]
  },
  {
   "cell_type": "markdown",
   "metadata": {},
   "source": [
    "#### Задание 2. Вывод инициализации весов линейного слоя при использовании ReLU в качестве функции активации (1 балл)\n",
    "\n",
    "Рассмотрим полносвязную нейронную сеть с функцией активации $g(y)$. Пусть сеть состоит из $L$ слоев и размер входа слоя $l$ равен $n_l\\ \\ (l = \\overline{1, L})$.\n",
    "\n",
    "Обозначим за $x^l \\in \\mathbb{R}^{n_{l}}$ вход слоя $l$, за $y^l \\in \\mathbb{R}^{n_{l+1}}$ — выход слоя $l$, за $W^l \\in \\mathbb{R}^{n_{l+1} \\times n_{l}}$ — веса слоя $l$, за $b^l \\in \\mathbb{R}^{n_{l+1}}$ — вектор сдвига слоя $l$.\n",
    "\n",
    "Тогда\n",
    "$$y^l = W^l x^l + b^l,$$\n",
    "$$x^{l+1} = g(y^l).$$\n",
    "\n",
    "На паре вы выводили хорошую инициализацию для линейного слоя в случае, когда в качестве функции активации $g(y)$ в нейронной сети используется гиперболический тангенс $g(y) = \\tanh(y)$. Сейчас вам нужно сделать подобный вывод для случая, когда в сети в качестве функций активации используется $g(y) = ReLU(y) = \\max(0, y)$.\n",
    "\n",
    "Сделаем следующие предположения насчет того, как распределены веса $W^l$, вектор сдвига $b^l$, входной вектор $x^l$, выходной вектор $y^l$ линейного слоя и градиенты функции потерь $\\frac{\\partial L}{\\partial y^{l}}$ $(l = \\overline{1, L}$):\n",
    "\n",
    "1. Все компоненты в $W^l$ распределены одинаково и независимо друг от друга;\n",
    "2. Все компоненты в $y^l$ распределены одинаково и независимо друг от друга;\n",
    "3. Все компоненты в $x^l$ распределены одинаково и независимо друг от друга;\n",
    "4. Все компоненты в $\\frac{\\partial L}{\\partial y^{l}}$ распределены одинаково и независимо друг от друга;\n",
    "5. Все компоненты в $W^l$ и все компоненты в $x^l$ независимы друг от друга;\n",
    "6. Все компоненты в $W^l$ имеют четную плотность распределения (то есть симметричную относительно нуля: $p_{W^l}(-x) = p_{W^l}(x)$);\n",
    "7. Все компоненты в $W^l$ имеют конечное матожидание;\n",
    "8. Вектор $b^l$ инициализирован нулями.\n",
    "\n",
    "\n",
    "Подсказки:\n",
    "1. Из пунктов 6 и 7 следует, что все компоненты в $W^l$ имеют нулевое среднее ($\\mathbb{E} W^l_{ij} = 0\\ \\ \\forall i = \\overline{1, n_{l+1}}, j = \\overline{1, n_{l}}$) (докажите);\n",
    "2. Из пунктов 6 и 7 следует, что все компоненты в $y^l$ имеют нулевое среднее и четную плотность распределения (докажите)."
   ]
  },
  {
   "cell_type": "markdown",
   "metadata": {},
   "source": [
    "__Ваше решение:__\n",
    "\n",
    "Найдем матожидание $W^l_{ij}$:\n",
    "\n",
    "с учетом предположения следует, что $\\mathbb{E}W^l_{ij} = \\mathbb{E}W^l$, $\\mathbb{E}W^l = 0$, так как $W^l$ имеет четную плотность распределения и при взятии матожидания через плотность интеграл будет равен нулю.\n",
    "\n",
    "Далее докажем, что все компоненты в $y^l$ имеют четную плотность распределения: так как $y^l = W^l x^l + b^l$, то \n",
    "\n",
    "$p_{y^l}(y) = \\int p_{x^l}(x)p_{W^l}(\\frac{y}{x})\\frac{dx}{|x|} = ${по предположению 6} $= \\int p_{x^l}(x)p_{W^l}(\\frac{-y}{x})\\frac{dx}{|x|} = p_{y^l}(-y)$, что и требловалось доказать.\n",
    "\n",
    "Далее расмотрим $y^l = W^l x^l + b^l$:\n",
    "\n",
    "$b^l = (0,...,0)^T$ по предполежению, тогда $y^l = W^l x^l => \\mathbb{E}y^l = \\mathbb{E}W^l \\mathbb{E}x^l * n^l = 0$, так как $\\mathbb{E}W^l = 0$"
   ]
  },
  {
   "cell_type": "markdown",
   "metadata": {
    "heading_collapsed": true
   },
   "source": [
    "### Задание 3. Почему функция активации $ReLU(y) = \\max(0, y)$ предпочтительней сигмоиды $\\sigma(y) = \\frac{1}{1 + \\exp(-y)}$ в нейронных сетях? (0.5 балла)\n",
    "\n",
    "Дайте развернутый ответ на вопрос \"Почему функция активации $ReLU(y) = \\max(0, y)$ предпочтительней сигмоиды $\\sigma(y) = \\frac{1}{1 + \\exp(-y)}$ в нейронных сетях?\""
   ]
  },
  {
   "cell_type": "markdown",
   "metadata": {
    "hidden": true
   },
   "source": [
    "__Ваш ответ:__\n",
    "* Производная сигмоиды всюду меньше 1, в отличии от ReLU, следовательно при использовании сигмоиды велика вероятность затухания градиентов и медленной сходимости параметров глубоких слоев сети.\n",
    "* Сигмоида может уменьшать дисперсию активаций, т.к. она определяет сжимающее отображение, что может привести к тому, что активации последних слоев будут распределены в маленьком подпространстве относительно исходного, следовательно нейронная сеть будет слабее отличать различные объекты."
   ]
  },
  {
   "cell_type": "markdown",
   "metadata": {
    "hidden": true
   },
   "source": [
    "---"
   ]
  },
  {
   "cell_type": "markdown",
   "metadata": {},
   "source": [
    "## Практическая часть (7 баллов)"
   ]
  },
  {
   "cell_type": "markdown",
   "metadata": {
    "heading_collapsed": true
   },
   "source": [
    "### Реализация нейронной сети (3 балла)"
   ]
  },
  {
   "cell_type": "markdown",
   "metadata": {
    "hidden": true
   },
   "source": [
    "В этом задании вы обучите полносвязную нейронную сеть распознавать рукописные цифры (а что же еще, если не их :), [почти] самостоятельно реализовав все составляющие алгоритма обучения и предсказания.\n",
    "\n",
    "Для начала нам понадобится реализовать прямой и обратный проход через слои. Наши слои будут соответствовать следующему интерфейсу (на примере \"тождественного\" слоя):"
   ]
  },
  {
   "cell_type": "code",
   "execution_count": 2,
   "metadata": {
    "ExecuteTime": {
     "end_time": "2021-03-03T14:44:48.924967Z",
     "start_time": "2021-03-03T14:44:48.912996Z"
    },
    "hidden": true
   },
   "outputs": [],
   "source": [
    "class IdentityLayer:\n",
    "    \"\"\"\n",
    "    A building block. Each layer is capable of performing two things:\n",
    "\n",
    "    - Process input to get output:           \n",
    "    output = layer.forward(input)\n",
    "\n",
    "    - Propagate gradients through itself:    \n",
    "    grad_input = layer.backward(input, grad_output)\n",
    "\n",
    "    Some layers also have learnable parameters.\n",
    "\n",
    "    Modified code from cs.hse DL course *\n",
    "    \"\"\"\n",
    "    def __init__(self):\n",
    "        \"\"\"\n",
    "        Here you can initialize layer parameters (if any) \n",
    "        and auxiliary stuff. You should enumerate all parameters\n",
    "        in self.params\n",
    "        \"\"\"\n",
    "        # An identity layer does nothing\n",
    "        self.params = []\n",
    "        pass\n",
    "\n",
    "    def forward(self, input):\n",
    "        \"\"\"\n",
    "        Takes input data of shape [batch, input_units], \n",
    "        returns output data [batch, output_units]\n",
    "        \"\"\"\n",
    "        # An identity layer just returns whatever it gets as input.\n",
    "        self.input = input\n",
    "        return input\n",
    "\n",
    "    def backward(self, grad_output): \n",
    "        \"\"\"\n",
    "        Performs a backpropagation step through the layer, \n",
    "        with respect to the given input.\n",
    "\n",
    "        To compute loss gradients w.r.t input, \n",
    "        you need to apply chain rule (backprop):\n",
    "\n",
    "        d `loss` / d `input` = (d `loss` / d `layer`) * (d `layer` / d `input`)\n",
    "\n",
    "        Luckily, you already receive d `loss` / d `layer` in argument, \n",
    "        so you only need to multiply it by d `layer` / d `input`.\n",
    "\n",
    "        NB: Sometimes d `layer` / d `input` can be a 3D or even 4D tensor.\n",
    "        So it's better to write down the `loss` differential and extract\n",
    "        d `layer` / d `input` from it so that only 2D tensors were present.\n",
    "\n",
    "        The method returns:\n",
    "        * gradient w.r.t input (will be passed to \n",
    "          previous layer's backward method)\n",
    "        * flattened gradient w.r.t. parameters (with .ravel() \n",
    "          applied to each gradient). \n",
    "          If there are no params, return []\n",
    "        \"\"\"\n",
    "        # The gradient of an identity layer is precisely grad_output\n",
    "        input_dim = self.input.shape[1]\n",
    "\n",
    "        d_layer_d_input = np.eye(input_dim)\n",
    "\n",
    "        return np.dot(grad_output, d_layer_d_input), [] # chain rule"
   ]
  },
  {
   "cell_type": "markdown",
   "metadata": {},
   "source": [
    "### Слой нелинейности ReLU\n",
    "\n",
    "Для начала реализуем слой нелинейности $ReLU(y) = \\max(0, y)$. Параметров у слоя нет. Метод `forward` должен вернуть результат поэлементного применения $ReLU$ к входному массиву, метод `backward` — градиент функции потерь по входу слоя. В нуле будем считать производную равной 0. Обратите внимание, что при обратном проходе могут понадобиться величины, посчитанные во время прямого прохода, поэтому их стоит сохранить как атрибут класса."
   ]
  },
  {
   "cell_type": "code",
   "execution_count": 3,
   "metadata": {
    "ExecuteTime": {
     "end_time": "2021-03-03T14:44:48.939926Z",
     "start_time": "2021-03-03T14:44:48.928957Z"
    }
   },
   "outputs": [],
   "source": [
    "class ReLU:\n",
    "    \"\"\"\n",
    "    Modified code from cs.hse DL course *\n",
    "    \"\"\"\n",
    "    def __init__(self):\n",
    "        \"\"\"ReLU layer simply applies elementwise rectified linear unit to all inputs\"\"\"\n",
    "        self.params = [] # ReLU has no parameters\n",
    "\n",
    "    def forward(self, input):\n",
    "        \"\"\"Apply elementwise ReLU to [batch, num_units] matrix\"\"\"\n",
    "        ### your code here\n",
    "        self.RL = np.copy(input)\n",
    "        self.RL[self.RL < 0] = 0\n",
    "        return self.RL\n",
    "        \n",
    "    def backward(self, grad_output):\n",
    "        \"\"\"Compute gradient of loss w.r.t. ReLU input\n",
    "        grad_output shape: [batch, num_units]\n",
    "        output 1 shape: [batch, num_units]\n",
    "        output 2: []\n",
    "        \"\"\"\n",
    "        ### your code here\n",
    "        self.RL[self.RL > 0] = 1\n",
    "        d_layer_d_input = self.RL\n",
    "        return grad_output*d_layer_d_input, [] # chain rule\n",
    "    \n",
    "    def __repr__(self):\n",
    "        return 'Relu()'"
   ]
  },
  {
   "cell_type": "markdown",
   "metadata": {},
   "source": [
    "### Полносвязный слой\n",
    "Далее реализуем полносвязный слой без нелинейности. У слоя два параметра: матрица весов и вектор сдвига.\n",
    "\n",
    "Обратите внимание на второй аргумент: в нем надо возвращать градиент по всем параметрам в одномерном виде. Для этого надо сначала применить `.ravel()` ко всем градиентам, а затем воспользоваться `np.r_`:"
   ]
  },
  {
   "cell_type": "code",
   "execution_count": 4,
   "metadata": {
    "ExecuteTime": {
     "end_time": "2021-03-03T14:44:48.971838Z",
     "start_time": "2021-03-03T14:44:48.943913Z"
    }
   },
   "outputs": [
    {
     "data": {
      "text/plain": [
       "array([1., 0., 0., 0., 1., 0., 0., 0., 1., 0., 1., 2., 3.])"
      ]
     },
     "execution_count": 4,
     "metadata": {},
     "output_type": "execute_result"
    }
   ],
   "source": [
    "# example\n",
    "np.r_[np.eye(3).ravel(), np.arange(4)]"
   ]
  },
  {
   "cell_type": "code",
   "execution_count": 5,
   "metadata": {
    "ExecuteTime": {
     "end_time": "2021-03-03T14:44:48.987794Z",
     "start_time": "2021-03-03T14:44:48.975827Z"
    }
   },
   "outputs": [],
   "source": [
    "class Dense:\n",
    "    \"\"\"\n",
    "    Modified code from cs.hse DL course *\n",
    "    \"\"\"\n",
    "    def __init__(self, input_units, output_units):\n",
    "        \"\"\"\n",
    "        A dense layer is a layer which performs a learned affine transformation:\n",
    "        f(x) = x W + b\n",
    "        \"\"\"\n",
    "        # initialize weights with small random numbers from normal distribution\n",
    "        self.weights = np.random.randn(input_units, output_units) * 0.01\n",
    "        self.biases = np.zeros(output_units)\n",
    "        self.params = [self.weights, self.biases]\n",
    "\n",
    "    def forward(self,input):\n",
    "        \"\"\"\n",
    "        Perform an affine transformation:\n",
    "        f(x) = x W + b\n",
    "        \n",
    "        input shape: [batch, input_units]\n",
    "        output shape: [batch, output units]\n",
    "        \"\"\"\n",
    "        ### your code here\n",
    "        self.x = input\n",
    "        self.f = input @ self.weights + self.biases\n",
    "        return self.f\n",
    "\n",
    "    def backward(self, grad_output):\n",
    "        \"\"\"\n",
    "        compute gradients\n",
    "        grad_output shape: [batch, output_units]\n",
    "        output shapes: [batch, input_units], [num_params]\n",
    "        \n",
    "        hint: use function np.r_\n",
    "        np.r_[np.arange(3), np.arange(3)] = [0, 1, 2, 0, 1, 2]\n",
    "        \"\"\"\n",
    "        ### your code here\n",
    "        d_layer_d_input = self.weights.T\n",
    "        grad_W = np.dot(self.x.T, grad_output)\n",
    "        grad_b = np.sum(grad_output, axis=0)\n",
    "        return np.dot(grad_output, d_layer_d_input), np.r_[grad_W.ravel(), grad_b]\n",
    "    \n",
    "    def __repr__(self):\n",
    "        return f'Dense({self.weights.shape[0]}, {self.weights.shape[1]})'"
   ]
  },
  {
   "cell_type": "markdown",
   "metadata": {},
   "source": [
    "### Проверка градиента\n",
    "\n",
    "Проверим правильность реализации с помощью функции численной проверки градиента. Функция `eval_numerical_gradient` принимает на вход callable объект `f` (функцию от одного аргумента-матрицы) и аргумент `x` и вычисляет приближенный градиент функции `f` в точке `x`."
   ]
  },
  {
   "cell_type": "code",
   "execution_count": 6,
   "metadata": {
    "ExecuteTime": {
     "end_time": "2021-03-03T14:44:49.003751Z",
     "start_time": "2021-03-03T14:44:48.990787Z"
    }
   },
   "outputs": [],
   "source": [
    "def eval_numerical_gradient(f, x, verbose=False, h=0.00001):\n",
    "    \"\"\"\n",
    "    Evaluates gradient df/dx via finite differences:\n",
    "    df/dx ~ (f(x+h) - f(x-h)) / 2h\n",
    "    Adopted from https://github.com/ddtm/dl-course/\n",
    "    \"\"\"\n",
    "    fx = f(x) # evaluate function value at original point\n",
    "    grad = np.zeros_like(x)\n",
    "    # iterate over all indexes in x\n",
    "    it = np.nditer(x, flags=['multi_index'], op_flags=['readwrite'])\n",
    "    while not it.finished:\n",
    "\n",
    "        # evaluate function at x+h\n",
    "        ix = it.multi_index\n",
    "        oldval = x[ix]\n",
    "        x[ix] = oldval + h # increment by h\n",
    "        fxph = f(x) # evalute f(x + h)\n",
    "        x[ix] = oldval - h\n",
    "        fxmh = f(x) # evaluate f(x - h)\n",
    "        x[ix] = oldval # restore\n",
    "\n",
    "        # compute the partial derivative with centered formula\n",
    "        grad[ix] = (fxph - fxmh) / (2 * h) # the slope\n",
    "        if verbose:\n",
    "            print (ix, grad[ix])\n",
    "        it.iternext() # step to next dimension\n",
    "\n",
    "    return grad"
   ]
  },
  {
   "cell_type": "markdown",
   "metadata": {},
   "source": [
    "Вычислите аналитический и численный градиенты по входу слоя ReLU от функции\n",
    "$$ f(y) = \\sum_i y_i, \\quad y = ReLU(x) $$\n",
    "\n",
    "Выпишите аналитический градиент в этой ячейке:\n",
    "\n",
    "$ df(y) = \\sum_i dy_i = I(1,batch)dy I(in,1) = $\n",
    "{число, поэтому применим операцию следа и воспользуемся свойством цикличности\\}\n",
    "$= tr(I(1,batch)dy I(in,1)) = tr(I(in,1)I(1,batch)dy) = tr(I(in,batch)dy) = tr(\\nabla_yf(y)^Tdy)$ $=> \\nabla_yf(y) = I(batch, in),$\n",
    "где $I(x, y)$ - матрица ие единиц размера x*y.\n",
    "\n",
    "Далее учитывая, что для $x \\in \\mathbb{R}^{n}$\n",
    "$$\\frac{\\partial y}{\\partial x} \\frac{\\partial f}{\\partial y} = \\frac{\\partial f}{\\partial y}diag(I[x>0])$$\n",
    "приходим к тому, что градиентом по входу слоя ReLU в двумерных тензорах является поэлементное произведение $\\nabla_yf(y)$ и матрицы, у которой на месте положительных элементов расположены единицы, отрицательных - нули"
   ]
  },
  {
   "cell_type": "markdown",
   "metadata": {},
   "source": [
    "Следующая ячейка после заполнения должна не выдавать ошибку :)"
   ]
  },
  {
   "cell_type": "code",
   "execution_count": 7,
   "metadata": {
    "ExecuteTime": {
     "end_time": "2021-03-03T14:44:49.034673Z",
     "start_time": "2021-03-03T14:44:49.006744Z"
    }
   },
   "outputs": [],
   "source": [
    "relu = ReLU()\n",
    "points = np.linspace(-1, 1, 10*12).reshape([10, 12])\n",
    "\n",
    "### your code here\n",
    "def f(y):\n",
    "    return np.sum(relu.forward(y))\n",
    "\n",
    "on = np.ones((10,12))\n",
    "relu.forward(points)\n",
    "grads = relu.backward(on)[0]\n",
    "numeric_grads = eval_numerical_gradient(f, points)\n",
    "assert np.allclose(grads, numeric_grads, rtol=1e-3, atol=0)"
   ]
  },
  {
   "cell_type": "markdown",
   "metadata": {},
   "source": [
    "Вычислите аналитический и численный градиенты по входу полносвязного слоя от функции\n",
    "$$ f(y) = \\sum_i y_i, \\quad y = W x + b $$\n",
    "\n",
    "Выпишите аналитический градиент в этой ячейке (советуем выписать градиент через дифференциал функции $f$):\n",
    "\n",
    "$ df(y) = \\sum_i dy_i = I(1,batch)dy I(out,1) = tr(I(1,batch)dy I(out,1)) = tr(I(out,1)I(1,batch)dy) = tr(I(out,batch)dy) $ $$=> \\nabla_yf(y) = I(batch, out)$$\n",
    "\n",
    "Далее найдем $\\nabla_xf(x):$\n",
    "\n",
    "$$df = \\nabla_yf(y)^Tdy = \\nabla_yf(y)^T(dx*W + xdW + db)$$ \n",
    "$$=> tr(\\nabla_yf(y)^TdxW) = tr(W * \\nabla_yf(y)^Tdx) = tr(\\nabla_xf(x)^Tdx) => \\nabla_xf(x) = \\nabla_yf(y) W^T$$ "
   ]
  },
  {
   "cell_type": "markdown",
   "metadata": {},
   "source": [
    "Следующая ячейка после заполнения должна не выдавать ошибку :)"
   ]
  },
  {
   "cell_type": "code",
   "execution_count": 8,
   "metadata": {
    "ExecuteTime": {
     "end_time": "2021-03-03T14:44:49.066624Z",
     "start_time": "2021-03-03T14:44:49.041651Z"
    }
   },
   "outputs": [],
   "source": [
    "linear = Dense(12, 32)\n",
    "points = np.linspace(-1, 1, 10*12).reshape([10, 12])\n",
    "\n",
    "### your code here\n",
    "def f(y):\n",
    "    return np.sum(np.dot(y, linear.weights) + linear.biases)\n",
    "numeric_grads = eval_numerical_gradient(f, points)\n",
    "linear.forward(points)\n",
    "one = np.ones((10,32))\n",
    "grads = linear.backward(one)[0]\n",
    "assert np.allclose(grads, numeric_grads, rtol=1e-3, atol=0)"
   ]
  },
  {
   "cell_type": "markdown",
   "metadata": {},
   "source": [
    "### Реализация softmax-слоя и функции потерь"
   ]
  },
  {
   "cell_type": "markdown",
   "metadata": {},
   "source": [
    "Для решения задачи многоклассовой классификации обычно используют $softmax$ в качестве нелинейности на последнем слое, чтобы получить вероятности классов для каждого объекта:\n",
    "$$\\hat y = softmax(x)  = \\left \\{\\frac {\\exp(x^i)}{\\sum_{j=1}^K \\exp(x^j)} \\right \\}_{i=1}^K, \\quad K - \\text{число классов.}$$\n",
    "\n",
    "Здесь за $x^i$ мы обозначаем $i$-ый признак объекта $x$.\n",
    "\n",
    "В качестве функции потерь выберем отрицательный логарифм правдоподобия (по английски: negative log likelihood или NLL)\n",
    "$$L(y, \\hat y) = -\\sum_{i=1}^K y^i \\log \\hat y^i,$$\n",
    "где $y^i = 1$, если объект принадлежит $i$-му классу, и $y^i = 0$ иначе.\n",
    "\n",
    "NLL совпадает с выражением для [кросс-энтропии](https://ru.wikipedia.org/wiki/Перекрёстная_энтропия) (в качестве первого распределения берем вырожденное распределение $y$, в качестве второго — предсказанное распределение $\\hat y$). Очевидно, что эту функцию потерь также можно переписать через индексацию, если через $y$ обозначить класс данного объекта:\n",
    "$$L(y, \\hat y) = - \\log \\hat y_{y}$$\n",
    "\n",
    "В таком виде ее удобно реализовывать."
   ]
  },
  {
   "cell_type": "markdown",
   "metadata": {
    "ExecuteTime": {
     "end_time": "2021-03-03T13:13:02.970075Z",
     "start_time": "2021-03-03T13:13:02.961134Z"
    }
   },
   "source": [
    "Для обучения нейронной сети будем оптимизировать эту функцию потерь по параметрам нейронной сети:\n",
    "\n",
    "$$ \\frac1N \\sum_{i=1}^N L(y_i, \\hat y_i) = \\frac1N \\sum_{i=1}^N L(y_i, \\text{NN}(x_i)) \\rightarrow \\min_{w}\\,,$$\n",
    "где за $x_i$ и $y_i$ мы обозначили признаки и таргет $i$-ого объекта обучающей выборки, за $\\text{NN}$ мы обозначили нейронную сеть, которая по признакам объекта $x_i$ выдает распределение вероятностей $\\hat y_i$, за $w$ мы обозначили все веса нейронной сети, а $N$ — это число объектов в обучающей выборке."
   ]
  },
  {
   "cell_type": "markdown",
   "metadata": {},
   "source": [
    "Реализуйте слой `LogSoftmax` (у этого слоя нет параметров). Метод `forward` должен вычислять логарифм от $softmax$, а метод `backward` — пропускать градиенты. В общем случае в промежуточных вычислениях `backward` получится трехмерный тензор, однако для нашей конкретной функции потерь все вычисления можно реализовать в матричном виде.  Поэтому мы будем предполагать, что аргумент `grad_output` — это матрица, у которой в каждой строке только одно ненулевое значение (не обязательно единица)."
   ]
  },
  {
   "cell_type": "code",
   "execution_count": 9,
   "metadata": {
    "ExecuteTime": {
     "end_time": "2021-03-03T14:44:49.272035Z",
     "start_time": "2021-03-03T14:44:49.070612Z"
    }
   },
   "outputs": [],
   "source": [
    "from scipy.special import logsumexp\n",
    "# use this function instead of np.log(np.sum(np.exp(...))) because it is more stable"
   ]
  },
  {
   "cell_type": "code",
   "execution_count": 10,
   "metadata": {
    "ExecuteTime": {
     "end_time": "2021-03-03T14:44:49.288035Z",
     "start_time": "2021-03-03T14:44:49.275031Z"
    }
   },
   "outputs": [],
   "source": [
    "class LogSoftmax:\n",
    "    def __init__(self):\n",
    "        self.params = []\n",
    "\n",
    "    def forward(self, input):\n",
    "        \"\"\"\n",
    "        Applies softmax to each row and then applies component-wise log\n",
    "        Input shape: [batch, num_units]\n",
    "        Output shape: [batch, num_units]\n",
    "        \"\"\"\n",
    "        ### your code here\n",
    "        self.z = np.copy(input)\n",
    "        self.f = input - logsumexp(input, axis=1).reshape(input.shape[0],1)\n",
    "        return input - logsumexp(input, axis=1).reshape(input.shape[0],1)\n",
    "        \n",
    "    def backward(self, grad_output):\n",
    "        \"\"\"\n",
    "        Propagartes gradients.\n",
    "        Assumes that each row of grad_output contains only 1 \n",
    "        non-zero element\n",
    "        Input shape: [batch, num_units]\n",
    "        Output shape: [batch, num_units]\n",
    "        Do not forget to return [] as second value (grad w.r.t. params)\n",
    "        \"\"\"\n",
    "        ### your code here\n",
    "        return grad_output - np.exp(self.f) * grad_output[np.where(grad_output!=0)][0], []\n",
    "\n",
    "    def __repr__(self):\n",
    "        return 'LogSoftmax()'"
   ]
  },
  {
   "cell_type": "markdown",
   "metadata": {},
   "source": [
    "Реализуйте функцию потерь и градиенты функции потерь. Во время вычисления NLL усредняйте (а не суммируйте) значения функции потерь по батчу. Обычно так делают для того, чтобы при двух запусках обучения нейронной сети с разными размерами батча получаемые значения функции потерь у этих сетей были сравнимы."
   ]
  },
  {
   "cell_type": "code",
   "execution_count": 11,
   "metadata": {
    "ExecuteTime": {
     "end_time": "2021-03-03T14:44:49.302990Z",
     "start_time": "2021-03-03T14:44:49.290985Z"
    }
   },
   "outputs": [],
   "source": [
    "def NLL(activations, target):\n",
    "    \"\"\"\n",
    "    Returns negative log-likelihood of target under model represented by\n",
    "    activations (log probabilities of classes, it's just output of LogSoftmax layer).\n",
    "    `activations` has shape [batch, num_classes], `target` has shape [batch]\n",
    "    Output shape: 1 (scalar).\n",
    "    \"\"\"\n",
    "    ### your code here\n",
    "    return np.sum(-activations[[i for i in range(target.shape[0])], target]) / target.shape[0]\n",
    "\n",
    "def grad_NLL(activations, target):\n",
    "    \"\"\"\n",
    "    Returns gradient of negative log-likelihood w.r.t. activations.\n",
    "    each arg has shape [batch, num_classes]\n",
    "    output shape: [batch, num-classes]\n",
    "    \"\"\"\n",
    "    ### your code here\n",
    "    co_sparse = np.zeros((activations.shape[0],activations.shape[1]))\n",
    "    co_sparse[[i for i in range(target.shape[0])], target] = -1/target.shape[0]\n",
    "    return co_sparse"
   ]
  },
  {
   "cell_type": "markdown",
   "metadata": {},
   "source": [
    "Наконец, выполните проверку `LogSoftmax`-слоя, используя функцию потерь и ее градиент:"
   ]
  },
  {
   "cell_type": "code",
   "execution_count": 12,
   "metadata": {
    "ExecuteTime": {
     "end_time": "2021-03-03T14:44:49.350863Z",
     "start_time": "2021-03-03T14:44:49.305945Z"
    }
   },
   "outputs": [],
   "source": [
    "lsm = LogSoftmax()\n",
    "target = np.arange(10)\n",
    "points = np.linspace(-1, 1, 10 * 12).reshape([10, 12])\n",
    "\n",
    "def f(y):\n",
    "    return NLL(lsm.forward(y), target)\n",
    "\n",
    "### your code here\n",
    "act = lsm.forward(points)\n",
    "grads = lsm.backward(grad_NLL(act, target))[0]\n",
    "numeric_grads = eval_numerical_gradient(f, points)\n",
    "\n",
    "assert np.allclose(grads, numeric_grads, rtol=1e-3, atol=0)"
   ]
  },
  {
   "cell_type": "markdown",
   "metadata": {},
   "source": [
    "## Загрузка данных\n",
    "\n",
    "Мы реализаовали все архитектурные составляющие нашей нейронной сети. Осталось загрузить данные и обучить модель. Мы будем работать с датасетом `digits`, каждый объект в котором — это 8x8 изображение рукописной цифры."
   ]
  },
  {
   "cell_type": "code",
   "execution_count": 13,
   "metadata": {
    "ExecuteTime": {
     "end_time": "2021-03-03T14:44:49.872521Z",
     "start_time": "2021-03-03T14:44:49.354818Z"
    }
   },
   "outputs": [],
   "source": [
    "import matplotlib.pyplot as plt\n",
    "%matplotlib inline"
   ]
  },
  {
   "cell_type": "code",
   "execution_count": 14,
   "metadata": {
    "ExecuteTime": {
     "end_time": "2021-03-03T14:44:51.700670Z",
     "start_time": "2021-03-03T14:44:49.876510Z"
    }
   },
   "outputs": [],
   "source": [
    "from sklearn.datasets import load_digits"
   ]
  },
  {
   "cell_type": "code",
   "execution_count": 15,
   "metadata": {
    "ExecuteTime": {
     "end_time": "2021-03-03T14:44:51.873771Z",
     "start_time": "2021-03-03T14:44:51.703667Z"
    }
   },
   "outputs": [],
   "source": [
    "X, y = load_digits(return_X_y=True)"
   ]
  },
  {
   "cell_type": "code",
   "execution_count": 16,
   "metadata": {
    "ExecuteTime": {
     "end_time": "2021-03-03T14:44:51.889252Z",
     "start_time": "2021-03-03T14:44:51.877326Z"
    }
   },
   "outputs": [
    {
     "data": {
      "text/plain": [
       "((1797, 64), (1797,))"
      ]
     },
     "execution_count": 16,
     "metadata": {},
     "output_type": "execute_result"
    }
   ],
   "source": [
    "X.shape, y.shape"
   ]
  },
  {
   "cell_type": "markdown",
   "metadata": {},
   "source": [
    "Разделим данные на обучение и контроль:"
   ]
  },
  {
   "cell_type": "code",
   "execution_count": 17,
   "metadata": {
    "ExecuteTime": {
     "end_time": "2021-03-03T14:44:51.952606Z",
     "start_time": "2021-03-03T14:44:51.892280Z"
    }
   },
   "outputs": [],
   "source": [
    "from sklearn.model_selection import train_test_split"
   ]
  },
  {
   "cell_type": "code",
   "execution_count": 18,
   "metadata": {
    "ExecuteTime": {
     "end_time": "2021-03-03T14:44:51.968609Z",
     "start_time": "2021-03-03T14:44:51.955642Z"
    }
   },
   "outputs": [],
   "source": [
    "X_train, X_test, y_train, y_test = train_test_split(X, y, random_state=0)"
   ]
  },
  {
   "cell_type": "code",
   "execution_count": 19,
   "metadata": {
    "ExecuteTime": {
     "end_time": "2021-03-03T14:44:52.000485Z",
     "start_time": "2021-03-03T14:44:51.971599Z"
    }
   },
   "outputs": [
    {
     "data": {
      "text/plain": [
       "((1347, 64), (450, 64))"
      ]
     },
     "execution_count": 19,
     "metadata": {},
     "output_type": "execute_result"
    }
   ],
   "source": [
    "X_train.shape, X_test.shape"
   ]
  },
  {
   "cell_type": "markdown",
   "metadata": {},
   "source": [
    "## Сборка и обучение нейронной сети (1 балл)"
   ]
  },
  {
   "cell_type": "markdown",
   "metadata": {},
   "source": [
    "В нашей реализации мы представляем нейронную сеть в виде списка ее слоев. Например, следующая функция конструирует нейронную сеть заданной ширины (то есть с заданным размером скрытых слоев) и глубины (то есть с заданным количеством слоев) с заданным размером входа и выхода, а также с заданной функцией активации между линейными слоями."
   ]
  },
  {
   "cell_type": "code",
   "execution_count": 20,
   "metadata": {
    "ExecuteTime": {
     "end_time": "2021-03-03T14:44:52.016442Z",
     "start_time": "2021-03-03T14:44:52.003513Z"
    }
   },
   "outputs": [],
   "source": [
    "def make_network(input_size, hidden_layers_size, output_size, n_layers=3, activation_class=ReLU):\n",
    "    network = []\n",
    "\n",
    "    for layer_idx in range(n_layers):\n",
    "        # Compute sizes of current linear layer\n",
    "        layer_in = input_size if layer_idx == 0 else hidden_layers_size\n",
    "        layer_out = output_size if layer_idx == n_layers - 1 else hidden_layers_size\n",
    "        \n",
    "        # Add linear layer to the network\n",
    "        network.append(Dense(layer_in, layer_out))\n",
    "\n",
    "        # Add activation after each layer except the last one\n",
    "        if layer_idx != n_layers - 1:\n",
    "            network.append(activation_class())\n",
    "\n",
    "    # Add LogSoftmax layer to the network\n",
    "    network.append(LogSoftmax())\n",
    "\n",
    "    return network"
   ]
  },
  {
   "cell_type": "code",
   "execution_count": 21,
   "metadata": {
    "ExecuteTime": {
     "end_time": "2021-03-03T14:44:52.048395Z",
     "start_time": "2021-03-03T14:44:52.020431Z"
    }
   },
   "outputs": [
    {
     "data": {
      "text/plain": [
       "[Dense(64, 32), Relu(), Dense(32, 32), Relu(), Dense(32, 10), LogSoftmax()]"
      ]
     },
     "execution_count": 21,
     "metadata": {},
     "output_type": "execute_result"
    }
   ],
   "source": [
    "input_size = X_train.shape[1]\n",
    "hidden_layers_size = 32\n",
    "output_size = 10\n",
    "\n",
    "network = make_network(input_size, hidden_layers_size, output_size, 3, ReLU)\n",
    "network"
   ]
  },
  {
   "cell_type": "markdown",
   "metadata": {},
   "source": [
    "Реализуйте функцию, которая выполнет прямой проход по нейронной сети:"
   ]
  },
  {
   "cell_type": "code",
   "execution_count": 22,
   "metadata": {
    "ExecuteTime": {
     "end_time": "2021-03-03T14:44:52.063319Z",
     "start_time": "2021-03-03T14:44:52.051386Z"
    }
   },
   "outputs": [],
   "source": [
    "def forward(network, X):\n",
    "    \"\"\"\n",
    "    Perform forward pass through the network.\n",
    "    \n",
    "    network: list of layers\n",
    "    X: raw data\n",
    "    X shape: [batch, features_num]\n",
    "\n",
    "    output: \n",
    "    output shape: [batch, out_features_num]\n",
    "    \"\"\"\n",
    "    ### your code here\n",
    "    curr_data = X\n",
    "    for layer in network:\n",
    "        curr_data = layer.forward(curr_data)\n",
    "    return curr_data"
   ]
  },
  {
   "cell_type": "markdown",
   "metadata": {},
   "source": [
    "Для проверки, хорошо ли сеть обучилась, нам понадобится вычислять долю правильных ответов (accuracy) на данной выборке. Для этого реализуйте функцию, которая делает предсказания на каждом объекте (логично в качестве предсказания на очередном объекте выдавать тот класс, для которого предсказанный логарифм вероятности максимален):"
   ]
  },
  {
   "cell_type": "code",
   "execution_count": 23,
   "metadata": {
    "ExecuteTime": {
     "end_time": "2021-03-03T14:44:52.063319Z",
     "start_time": "2021-03-03T14:44:52.051386Z"
    }
   },
   "outputs": [],
   "source": [
    "def predict(network, X):\n",
    "    \"\"\"\n",
    "    Returns predictions for each object in X.\n",
    "    \n",
    "    network: list of layers\n",
    "    X: raw data\n",
    "    X shape: [batch, features_num]\n",
    "\n",
    "    output: array of classes, each from 0 to 9\n",
    "    output shape: [batch]\n",
    "    \"\"\"\n",
    "    ### your code here\n",
    "    forward_data = forward(network, X)\n",
    "    return np.argmax(forward_data, axis=1)"
   ]
  },
  {
   "cell_type": "markdown",
   "metadata": {},
   "source": [
    "Мы будем обучать параметры нейросети с помощью готовой функции оптимизации из модуля `scipy`:"
   ]
  },
  {
   "cell_type": "code",
   "execution_count": 24,
   "metadata": {
    "ExecuteTime": {
     "end_time": "2021-03-03T14:44:52.079311Z",
     "start_time": "2021-03-03T14:44:52.070308Z"
    }
   },
   "outputs": [],
   "source": [
    "from scipy.optimize import minimize"
   ]
  },
  {
   "cell_type": "code",
   "execution_count": 25,
   "metadata": {
    "ExecuteTime": {
     "end_time": "2021-03-03T14:44:52.111226Z",
     "start_time": "2021-03-03T14:44:52.085292Z"
    },
    "scrolled": true
   },
   "outputs": [
    {
     "name": "stdout",
     "output_type": "stream",
     "text": [
      "Help on function minimize in module scipy.optimize._minimize:\n",
      "\n",
      "minimize(fun, x0, args=(), method=None, jac=None, hess=None, hessp=None, bounds=None, constraints=(), tol=None, callback=None, options=None)\n",
      "    Minimization of scalar function of one or more variables.\n",
      "    \n",
      "    Parameters\n",
      "    ----------\n",
      "    fun : callable\n",
      "        The objective function to be minimized.\n",
      "    \n",
      "            ``fun(x, *args) -> float``\n",
      "    \n",
      "        where ``x`` is an 1-D array with shape (n,) and ``args``\n",
      "        is a tuple of the fixed parameters needed to completely\n",
      "        specify the function.\n",
      "    x0 : ndarray, shape (n,)\n",
      "        Initial guess. Array of real elements of size (n,),\n",
      "        where 'n' is the number of independent variables.\n",
      "    args : tuple, optional\n",
      "        Extra arguments passed to the objective function and its\n",
      "        derivatives (`fun`, `jac` and `hess` functions).\n",
      "    method : str or callable, optional\n",
      "        Type of solver.  Should be one of\n",
      "    \n",
      "            - 'Nelder-Mead' :ref:`(see here) <optimize.minimize-neldermead>`\n",
      "            - 'Powell'      :ref:`(see here) <optimize.minimize-powell>`\n",
      "            - 'CG'          :ref:`(see here) <optimize.minimize-cg>`\n",
      "            - 'BFGS'        :ref:`(see here) <optimize.minimize-bfgs>`\n",
      "            - 'Newton-CG'   :ref:`(see here) <optimize.minimize-newtoncg>`\n",
      "            - 'L-BFGS-B'    :ref:`(see here) <optimize.minimize-lbfgsb>`\n",
      "            - 'TNC'         :ref:`(see here) <optimize.minimize-tnc>`\n",
      "            - 'COBYLA'      :ref:`(see here) <optimize.minimize-cobyla>`\n",
      "            - 'SLSQP'       :ref:`(see here) <optimize.minimize-slsqp>`\n",
      "            - 'trust-constr':ref:`(see here) <optimize.minimize-trustconstr>`\n",
      "            - 'dogleg'      :ref:`(see here) <optimize.minimize-dogleg>`\n",
      "            - 'trust-ncg'   :ref:`(see here) <optimize.minimize-trustncg>`\n",
      "            - 'trust-exact' :ref:`(see here) <optimize.minimize-trustexact>`\n",
      "            - 'trust-krylov' :ref:`(see here) <optimize.minimize-trustkrylov>`\n",
      "            - custom - a callable object (added in version 0.14.0),\n",
      "              see below for description.\n",
      "    \n",
      "        If not given, chosen to be one of ``BFGS``, ``L-BFGS-B``, ``SLSQP``,\n",
      "        depending if the problem has constraints or bounds.\n",
      "    jac : {callable,  '2-point', '3-point', 'cs', bool}, optional\n",
      "        Method for computing the gradient vector. Only for CG, BFGS,\n",
      "        Newton-CG, L-BFGS-B, TNC, SLSQP, dogleg, trust-ncg, trust-krylov,\n",
      "        trust-exact and trust-constr.\n",
      "        If it is a callable, it should be a function that returns the gradient\n",
      "        vector:\n",
      "    \n",
      "            ``jac(x, *args) -> array_like, shape (n,)``\n",
      "    \n",
      "        where ``x`` is an array with shape (n,) and ``args`` is a tuple with\n",
      "        the fixed parameters. If `jac` is a Boolean and is True, `fun` is\n",
      "        assumed to return and objective and gradient as and ``(f, g)`` tuple.\n",
      "        Methods 'Newton-CG', 'trust-ncg', 'dogleg', 'trust-exact', and\n",
      "        'trust-krylov' require that either a callable be supplied, or that\n",
      "        `fun` return the objective and gradient.\n",
      "        If None or False, the gradient will be estimated using 2-point finite\n",
      "        difference estimation with an absolute step size.\n",
      "        Alternatively, the keywords  {'2-point', '3-point', 'cs'} can be used\n",
      "        to select a finite difference scheme for numerical estimation of the\n",
      "        gradient with a relative step size. These finite difference schemes\n",
      "        obey any specified `bounds`.\n",
      "    hess : {callable, '2-point', '3-point', 'cs', HessianUpdateStrategy}, optional\n",
      "        Method for computing the Hessian matrix. Only for Newton-CG, dogleg,\n",
      "        trust-ncg,  trust-krylov, trust-exact and trust-constr. If it is\n",
      "        callable, it should return the  Hessian matrix:\n",
      "    \n",
      "            ``hess(x, *args) -> {LinearOperator, spmatrix, array}, (n, n)``\n",
      "    \n",
      "        where x is a (n,) ndarray and `args` is a tuple with the fixed\n",
      "        parameters. LinearOperator and sparse matrix returns are\n",
      "        allowed only for 'trust-constr' method. Alternatively, the keywords\n",
      "        {'2-point', '3-point', 'cs'} select a finite difference scheme\n",
      "        for numerical estimation. Or, objects implementing\n",
      "        `HessianUpdateStrategy` interface can be used to approximate\n",
      "        the Hessian. Available quasi-Newton methods implementing\n",
      "        this interface are:\n",
      "    \n",
      "            - `BFGS`;\n",
      "            - `SR1`.\n",
      "    \n",
      "        Whenever the gradient is estimated via finite-differences,\n",
      "        the Hessian cannot be estimated with options\n",
      "        {'2-point', '3-point', 'cs'} and needs to be\n",
      "        estimated using one of the quasi-Newton strategies.\n",
      "        Finite-difference options {'2-point', '3-point', 'cs'} and\n",
      "        `HessianUpdateStrategy` are available only for 'trust-constr' method.\n",
      "    hessp : callable, optional\n",
      "        Hessian of objective function times an arbitrary vector p. Only for\n",
      "        Newton-CG, trust-ncg, trust-krylov, trust-constr.\n",
      "        Only one of `hessp` or `hess` needs to be given.  If `hess` is\n",
      "        provided, then `hessp` will be ignored.  `hessp` must compute the\n",
      "        Hessian times an arbitrary vector:\n",
      "    \n",
      "            ``hessp(x, p, *args) ->  ndarray shape (n,)``\n",
      "    \n",
      "        where x is a (n,) ndarray, p is an arbitrary vector with\n",
      "        dimension (n,) and `args` is a tuple with the fixed\n",
      "        parameters.\n",
      "    bounds : sequence or `Bounds`, optional\n",
      "        Bounds on variables for L-BFGS-B, TNC, SLSQP, Powell, and\n",
      "        trust-constr methods. There are two ways to specify the bounds:\n",
      "    \n",
      "            1. Instance of `Bounds` class.\n",
      "            2. Sequence of ``(min, max)`` pairs for each element in `x`. None\n",
      "               is used to specify no bound.\n",
      "    \n",
      "    constraints : {Constraint, dict} or List of {Constraint, dict}, optional\n",
      "        Constraints definition (only for COBYLA, SLSQP and trust-constr).\n",
      "        Constraints for 'trust-constr' are defined as a single object or a\n",
      "        list of objects specifying constraints to the optimization problem.\n",
      "        Available constraints are:\n",
      "    \n",
      "            - `LinearConstraint`\n",
      "            - `NonlinearConstraint`\n",
      "    \n",
      "        Constraints for COBYLA, SLSQP are defined as a list of dictionaries.\n",
      "        Each dictionary with fields:\n",
      "    \n",
      "            type : str\n",
      "                Constraint type: 'eq' for equality, 'ineq' for inequality.\n",
      "            fun : callable\n",
      "                The function defining the constraint.\n",
      "            jac : callable, optional\n",
      "                The Jacobian of `fun` (only for SLSQP).\n",
      "            args : sequence, optional\n",
      "                Extra arguments to be passed to the function and Jacobian.\n",
      "    \n",
      "        Equality constraint means that the constraint function result is to\n",
      "        be zero whereas inequality means that it is to be non-negative.\n",
      "        Note that COBYLA only supports inequality constraints.\n",
      "    tol : float, optional\n",
      "        Tolerance for termination. For detailed control, use solver-specific\n",
      "        options.\n",
      "    options : dict, optional\n",
      "        A dictionary of solver options. All methods accept the following\n",
      "        generic options:\n",
      "    \n",
      "            maxiter : int\n",
      "                Maximum number of iterations to perform. Depending on the\n",
      "                method each iteration may use several function evaluations.\n",
      "            disp : bool\n",
      "                Set to True to print convergence messages.\n",
      "    \n",
      "        For method-specific options, see :func:`show_options()`.\n",
      "    callback : callable, optional\n",
      "        Called after each iteration. For 'trust-constr' it is a callable with\n",
      "        the signature:\n",
      "    \n",
      "            ``callback(xk, OptimizeResult state) -> bool``\n",
      "    \n",
      "        where ``xk`` is the current parameter vector. and ``state``\n",
      "        is an `OptimizeResult` object, with the same fields\n",
      "        as the ones from the return. If callback returns True\n",
      "        the algorithm execution is terminated.\n",
      "        For all the other methods, the signature is:\n",
      "    \n",
      "            ``callback(xk)``\n",
      "    \n",
      "        where ``xk`` is the current parameter vector.\n",
      "    \n",
      "    Returns\n",
      "    -------\n",
      "    res : OptimizeResult\n",
      "        The optimization result represented as a ``OptimizeResult`` object.\n",
      "        Important attributes are: ``x`` the solution array, ``success`` a\n",
      "        Boolean flag indicating if the optimizer exited successfully and\n",
      "        ``message`` which describes the cause of the termination. See\n",
      "        `OptimizeResult` for a description of other attributes.\n",
      "    \n",
      "    See also\n",
      "    --------\n",
      "    minimize_scalar : Interface to minimization algorithms for scalar\n",
      "        univariate functions\n",
      "    show_options : Additional options accepted by the solvers\n",
      "    \n",
      "    Notes\n",
      "    -----\n",
      "    This section describes the available solvers that can be selected by the\n",
      "    'method' parameter. The default method is *BFGS*.\n",
      "    \n",
      "    **Unconstrained minimization**\n",
      "    \n",
      "    Method :ref:`Nelder-Mead <optimize.minimize-neldermead>` uses the\n",
      "    Simplex algorithm [1]_, [2]_. This algorithm is robust in many\n",
      "    applications. However, if numerical computation of derivative can be\n",
      "    trusted, other algorithms using the first and/or second derivatives\n",
      "    information might be preferred for their better performance in\n",
      "    general.\n",
      "    \n",
      "    Method :ref:`CG <optimize.minimize-cg>` uses a nonlinear conjugate\n",
      "    gradient algorithm by Polak and Ribiere, a variant of the\n",
      "    Fletcher-Reeves method described in [5]_ pp.120-122. Only the\n",
      "    first derivatives are used.\n",
      "    \n",
      "    Method :ref:`BFGS <optimize.minimize-bfgs>` uses the quasi-Newton\n",
      "    method of Broyden, Fletcher, Goldfarb, and Shanno (BFGS) [5]_\n",
      "    pp. 136. It uses the first derivatives only. BFGS has proven good\n",
      "    performance even for non-smooth optimizations. This method also\n",
      "    returns an approximation of the Hessian inverse, stored as\n",
      "    `hess_inv` in the OptimizeResult object.\n",
      "    \n",
      "    Method :ref:`Newton-CG <optimize.minimize-newtoncg>` uses a\n",
      "    Newton-CG algorithm [5]_ pp. 168 (also known as the truncated\n",
      "    Newton method). It uses a CG method to the compute the search\n",
      "    direction. See also *TNC* method for a box-constrained\n",
      "    minimization with a similar algorithm. Suitable for large-scale\n",
      "    problems.\n",
      "    \n",
      "    Method :ref:`dogleg <optimize.minimize-dogleg>` uses the dog-leg\n",
      "    trust-region algorithm [5]_ for unconstrained minimization. This\n",
      "    algorithm requires the gradient and Hessian; furthermore the\n",
      "    Hessian is required to be positive definite.\n",
      "    \n",
      "    Method :ref:`trust-ncg <optimize.minimize-trustncg>` uses the\n",
      "    Newton conjugate gradient trust-region algorithm [5]_ for\n",
      "    unconstrained minimization. This algorithm requires the gradient\n",
      "    and either the Hessian or a function that computes the product of\n",
      "    the Hessian with a given vector. Suitable for large-scale problems.\n",
      "    \n",
      "    Method :ref:`trust-krylov <optimize.minimize-trustkrylov>` uses\n",
      "    the Newton GLTR trust-region algorithm [14]_, [15]_ for unconstrained\n",
      "    minimization. This algorithm requires the gradient\n",
      "    and either the Hessian or a function that computes the product of\n",
      "    the Hessian with a given vector. Suitable for large-scale problems.\n",
      "    On indefinite problems it requires usually less iterations than the\n",
      "    `trust-ncg` method and is recommended for medium and large-scale problems.\n",
      "    \n",
      "    Method :ref:`trust-exact <optimize.minimize-trustexact>`\n",
      "    is a trust-region method for unconstrained minimization in which\n",
      "    quadratic subproblems are solved almost exactly [13]_. This\n",
      "    algorithm requires the gradient and the Hessian (which is\n",
      "    *not* required to be positive definite). It is, in many\n",
      "    situations, the Newton method to converge in fewer iteraction\n",
      "    and the most recommended for small and medium-size problems.\n",
      "    \n",
      "    **Bound-Constrained minimization**\n",
      "    \n",
      "    Method :ref:`L-BFGS-B <optimize.minimize-lbfgsb>` uses the L-BFGS-B\n",
      "    algorithm [6]_, [7]_ for bound constrained minimization.\n",
      "    \n",
      "    Method :ref:`Powell <optimize.minimize-powell>` is a modification\n",
      "    of Powell's method [3]_, [4]_ which is a conjugate direction\n",
      "    method. It performs sequential one-dimensional minimizations along\n",
      "    each vector of the directions set (`direc` field in `options` and\n",
      "    `info`), which is updated at each iteration of the main\n",
      "    minimization loop. The function need not be differentiable, and no\n",
      "    derivatives are taken. If bounds are not provided, then an\n",
      "    unbounded line search will be used. If bounds are provided and\n",
      "    the initial guess is within the bounds, then every function\n",
      "    evaluation throughout the minimization procedure will be within\n",
      "    the bounds. If bounds are provided, the initial guess is outside\n",
      "    the bounds, and `direc` is full rank (default has full rank), then\n",
      "    some function evaluations during the first iteration may be\n",
      "    outside the bounds, but every function evaluation after the first\n",
      "    iteration will be within the bounds. If `direc` is not full rank,\n",
      "    then some parameters may not be optimized and the solution is not\n",
      "    guaranteed to be within the bounds.\n",
      "    \n",
      "    Method :ref:`TNC <optimize.minimize-tnc>` uses a truncated Newton\n",
      "    algorithm [5]_, [8]_ to minimize a function with variables subject\n",
      "    to bounds. This algorithm uses gradient information; it is also\n",
      "    called Newton Conjugate-Gradient. It differs from the *Newton-CG*\n",
      "    method described above as it wraps a C implementation and allows\n",
      "    each variable to be given upper and lower bounds.\n",
      "    \n",
      "    **Constrained Minimization**\n",
      "    \n",
      "    Method :ref:`COBYLA <optimize.minimize-cobyla>` uses the\n",
      "    Constrained Optimization BY Linear Approximation (COBYLA) method\n",
      "    [9]_, [10]_, [11]_. The algorithm is based on linear\n",
      "    approximations to the objective function and each constraint. The\n",
      "    method wraps a FORTRAN implementation of the algorithm. The\n",
      "    constraints functions 'fun' may return either a single number\n",
      "    or an array or list of numbers.\n",
      "    \n",
      "    Method :ref:`SLSQP <optimize.minimize-slsqp>` uses Sequential\n",
      "    Least SQuares Programming to minimize a function of several\n",
      "    variables with any combination of bounds, equality and inequality\n",
      "    constraints. The method wraps the SLSQP Optimization subroutine\n",
      "    originally implemented by Dieter Kraft [12]_. Note that the\n",
      "    wrapper handles infinite values in bounds by converting them into\n",
      "    large floating values.\n",
      "    \n",
      "    Method :ref:`trust-constr <optimize.minimize-trustconstr>` is a\n",
      "    trust-region algorithm for constrained optimization. It swiches\n",
      "    between two implementations depending on the problem definition.\n",
      "    It is the most versatile constrained minimization algorithm\n",
      "    implemented in SciPy and the most appropriate for large-scale problems.\n",
      "    For equality constrained problems it is an implementation of Byrd-Omojokun\n",
      "    Trust-Region SQP method described in [17]_ and in [5]_, p. 549. When\n",
      "    inequality constraints  are imposed as well, it swiches to the trust-region\n",
      "    interior point  method described in [16]_. This interior point algorithm,\n",
      "    in turn, solves inequality constraints by introducing slack variables\n",
      "    and solving a sequence of equality-constrained barrier problems\n",
      "    for progressively smaller values of the barrier parameter.\n",
      "    The previously described equality constrained SQP method is\n",
      "    used to solve the subproblems with increasing levels of accuracy\n",
      "    as the iterate gets closer to a solution.\n",
      "    \n",
      "    **Finite-Difference Options**\n",
      "    \n",
      "    For Method :ref:`trust-constr <optimize.minimize-trustconstr>`\n",
      "    the gradient and the Hessian may be approximated using\n",
      "    three finite-difference schemes: {'2-point', '3-point', 'cs'}.\n",
      "    The scheme 'cs' is, potentially, the most accurate but it\n",
      "    requires the function to correctly handles complex inputs and to\n",
      "    be differentiable in the complex plane. The scheme '3-point' is more\n",
      "    accurate than '2-point' but requires twice as many operations.\n",
      "    \n",
      "    **Custom minimizers**\n",
      "    \n",
      "    It may be useful to pass a custom minimization method, for example\n",
      "    when using a frontend to this method such as `scipy.optimize.basinhopping`\n",
      "    or a different library.  You can simply pass a callable as the ``method``\n",
      "    parameter.\n",
      "    \n",
      "    The callable is called as ``method(fun, x0, args, **kwargs, **options)``\n",
      "    where ``kwargs`` corresponds to any other parameters passed to `minimize`\n",
      "    (such as `callback`, `hess`, etc.), except the `options` dict, which has\n",
      "    its contents also passed as `method` parameters pair by pair.  Also, if\n",
      "    `jac` has been passed as a bool type, `jac` and `fun` are mangled so that\n",
      "    `fun` returns just the function values and `jac` is converted to a function\n",
      "    returning the Jacobian.  The method shall return an `OptimizeResult`\n",
      "    object.\n",
      "    \n",
      "    The provided `method` callable must be able to accept (and possibly ignore)\n",
      "    arbitrary parameters; the set of parameters accepted by `minimize` may\n",
      "    expand in future versions and then these parameters will be passed to\n",
      "    the method.  You can find an example in the scipy.optimize tutorial.\n",
      "    \n",
      "    .. versionadded:: 0.11.0\n",
      "    \n",
      "    References\n",
      "    ----------\n",
      "    .. [1] Nelder, J A, and R Mead. 1965. A Simplex Method for Function\n",
      "        Minimization. The Computer Journal 7: 308-13.\n",
      "    .. [2] Wright M H. 1996. Direct search methods: Once scorned, now\n",
      "        respectable, in Numerical Analysis 1995: Proceedings of the 1995\n",
      "        Dundee Biennial Conference in Numerical Analysis (Eds. D F\n",
      "        Griffiths and G A Watson). Addison Wesley Longman, Harlow, UK.\n",
      "        191-208.\n",
      "    .. [3] Powell, M J D. 1964. An efficient method for finding the minimum of\n",
      "       a function of several variables without calculating derivatives. The\n",
      "       Computer Journal 7: 155-162.\n",
      "    .. [4] Press W, S A Teukolsky, W T Vetterling and B P Flannery.\n",
      "       Numerical Recipes (any edition), Cambridge University Press.\n",
      "    .. [5] Nocedal, J, and S J Wright. 2006. Numerical Optimization.\n",
      "       Springer New York.\n",
      "    .. [6] Byrd, R H and P Lu and J. Nocedal. 1995. A Limited Memory\n",
      "       Algorithm for Bound Constrained Optimization. SIAM Journal on\n",
      "       Scientific and Statistical Computing 16 (5): 1190-1208.\n",
      "    .. [7] Zhu, C and R H Byrd and J Nocedal. 1997. L-BFGS-B: Algorithm\n",
      "       778: L-BFGS-B, FORTRAN routines for large scale bound constrained\n",
      "       optimization. ACM Transactions on Mathematical Software 23 (4):\n",
      "       550-560.\n",
      "    .. [8] Nash, S G. Newton-Type Minimization Via the Lanczos Method.\n",
      "       1984. SIAM Journal of Numerical Analysis 21: 770-778.\n",
      "    .. [9] Powell, M J D. A direct search optimization method that models\n",
      "       the objective and constraint functions by linear interpolation.\n",
      "       1994. Advances in Optimization and Numerical Analysis, eds. S. Gomez\n",
      "       and J-P Hennart, Kluwer Academic (Dordrecht), 51-67.\n",
      "    .. [10] Powell M J D. Direct search algorithms for optimization\n",
      "       calculations. 1998. Acta Numerica 7: 287-336.\n",
      "    .. [11] Powell M J D. A view of algorithms for optimization without\n",
      "       derivatives. 2007.Cambridge University Technical Report DAMTP\n",
      "       2007/NA03\n",
      "    .. [12] Kraft, D. A software package for sequential quadratic\n",
      "       programming. 1988. Tech. Rep. DFVLR-FB 88-28, DLR German Aerospace\n",
      "       Center -- Institute for Flight Mechanics, Koln, Germany.\n",
      "    .. [13] Conn, A. R., Gould, N. I., and Toint, P. L.\n",
      "       Trust region methods. 2000. Siam. pp. 169-200.\n",
      "    .. [14] F. Lenders, C. Kirches, A. Potschka: \"trlib: A vector-free\n",
      "       implementation of the GLTR method for iterative solution of\n",
      "       the trust region problem\", https://arxiv.org/abs/1611.04718\n",
      "    .. [15] N. Gould, S. Lucidi, M. Roma, P. Toint: \"Solving the\n",
      "       Trust-Region Subproblem using the Lanczos Method\",\n",
      "       SIAM J. Optim., 9(2), 504--525, (1999).\n",
      "    .. [16] Byrd, Richard H., Mary E. Hribar, and Jorge Nocedal. 1999.\n",
      "        An interior point algorithm for large-scale nonlinear  programming.\n",
      "        SIAM Journal on Optimization 9.4: 877-900.\n",
      "    .. [17] Lalee, Marucha, Jorge Nocedal, and Todd Plantega. 1998. On the\n",
      "        implementation of an algorithm for large-scale equality constrained\n",
      "        optimization. SIAM Journal on Optimization 8.3: 682-706.\n",
      "    \n",
      "    Examples\n",
      "    --------\n",
      "    Let us consider the problem of minimizing the Rosenbrock function. This\n",
      "    function (and its respective derivatives) is implemented in `rosen`\n",
      "    (resp. `rosen_der`, `rosen_hess`) in the `scipy.optimize`.\n",
      "    \n",
      "    >>> from scipy.optimize import minimize, rosen, rosen_der\n",
      "    \n",
      "    A simple application of the *Nelder-Mead* method is:\n",
      "    \n",
      "    >>> x0 = [1.3, 0.7, 0.8, 1.9, 1.2]\n",
      "    >>> res = minimize(rosen, x0, method='Nelder-Mead', tol=1e-6)\n",
      "    >>> res.x\n",
      "    array([ 1.,  1.,  1.,  1.,  1.])\n",
      "    \n",
      "    Now using the *BFGS* algorithm, using the first derivative and a few\n",
      "    options:\n",
      "    \n",
      "    >>> res = minimize(rosen, x0, method='BFGS', jac=rosen_der,\n",
      "    ...                options={'gtol': 1e-6, 'disp': True})\n",
      "    Optimization terminated successfully.\n",
      "             Current function value: 0.000000\n",
      "             Iterations: 26\n",
      "             Function evaluations: 31\n",
      "             Gradient evaluations: 31\n",
      "    >>> res.x\n",
      "    array([ 1.,  1.,  1.,  1.,  1.])\n",
      "    >>> print(res.message)\n",
      "    Optimization terminated successfully.\n",
      "    >>> res.hess_inv\n",
      "    array([[ 0.00749589,  0.01255155,  0.02396251,  0.04750988,  0.09495377],  # may vary\n",
      "           [ 0.01255155,  0.02510441,  0.04794055,  0.09502834,  0.18996269],\n",
      "           [ 0.02396251,  0.04794055,  0.09631614,  0.19092151,  0.38165151],\n",
      "           [ 0.04750988,  0.09502834,  0.19092151,  0.38341252,  0.7664427 ],\n",
      "           [ 0.09495377,  0.18996269,  0.38165151,  0.7664427,   1.53713523]])\n",
      "    \n",
      "    \n",
      "    Next, consider a minimization problem with several constraints (namely\n",
      "    Example 16.4 from [5]_). The objective function is:\n",
      "    \n",
      "    >>> fun = lambda x: (x[0] - 1)**2 + (x[1] - 2.5)**2\n",
      "    \n",
      "    There are three constraints defined as:\n",
      "    \n",
      "    >>> cons = ({'type': 'ineq', 'fun': lambda x:  x[0] - 2 * x[1] + 2},\n",
      "    ...         {'type': 'ineq', 'fun': lambda x: -x[0] - 2 * x[1] + 6},\n",
      "    ...         {'type': 'ineq', 'fun': lambda x: -x[0] + 2 * x[1] + 2})\n",
      "    \n",
      "    And variables must be positive, hence the following bounds:\n",
      "    \n",
      "    >>> bnds = ((0, None), (0, None))\n",
      "    \n",
      "    The optimization problem is solved using the SLSQP method as:\n",
      "    \n",
      "    >>> res = minimize(fun, (2, 0), method='SLSQP', bounds=bnds,\n",
      "    ...                constraints=cons)\n",
      "    \n",
      "    It should converge to the theoretical solution (1.4 ,1.7).\n",
      "\n"
     ]
    }
   ],
   "source": [
    "help(minimize)"
   ]
  },
  {
   "cell_type": "markdown",
   "metadata": {},
   "source": [
    "Эта функция имеет стандартный интерфейс: нужно передать callable объект, который вычисляет значение и градиент целевой функции, а также точку старта оптимизации — начальное приближение (одномерный `numpy`-массив). Поэтому нам понадобятся функции для сбора и задания всех весов нашей нейросети (именно для них мы всегда записывали параметры слоя в список `layer.params`)"
   ]
  },
  {
   "cell_type": "code",
   "execution_count": 26,
   "metadata": {
    "ExecuteTime": {
     "end_time": "2021-03-03T14:44:52.127145Z",
     "start_time": "2021-03-03T14:44:52.114180Z"
    }
   },
   "outputs": [],
   "source": [
    "def get_weights(network):\n",
    "    weights = []\n",
    "    for layer in network:\n",
    "        for param in layer.params:\n",
    "            weights += param.ravel().tolist()\n",
    "    return np.array(weights)\n",
    "\n",
    "\n",
    "def set_weights(weights, network):\n",
    "    i = 0\n",
    "    for layer in network:\n",
    "        for param in layer.params:\n",
    "            l = param.size\n",
    "            param[:] = weights[i:i+l].reshape(param.shape)\n",
    "            i += l"
   ]
  },
  {
   "cell_type": "markdown",
   "metadata": {},
   "source": [
    "Вам нужно реализовать ту самую функцию, которую мы будем передавать в `minimize`. Эта функция должна брать на вход текущую точку (вектор всех параметров), а также список дополнительных параметров (мы будем передавать через них нашу сеть и обучающие данные) и возвращать значение критерия качества (NLL) и его градиент по параметрам модели."
   ]
  },
  {
   "cell_type": "code",
   "execution_count": 27,
   "metadata": {
    "ExecuteTime": {
     "end_time": "2021-03-03T14:44:52.143103Z",
     "start_time": "2021-03-03T14:44:52.131134Z"
    }
   },
   "outputs": [],
   "source": [
    "def compute_loss_grad(weights, args):\n",
    "    \"\"\"\n",
    "    takes current weights and computes cross-entropy and gradients\n",
    "    weights shape: [num_parameters]\n",
    "    output 1: loss (scalar)\n",
    "    output 2: gradint w.r.t. weights, shape: [num_parameters]\n",
    "    \n",
    "    hint: firstly perform forward pass through the whole network\n",
    "    then compute loss and its gradients\n",
    "    then perform backward pass, transmitting first bakward output\n",
    "    to the previos layer and saving second baskward output in a list\n",
    "    finally flatten all the gradients in this list\n",
    "    (in the order from the first to the last layer)\n",
    "    \n",
    "    Do not forget to set weights of the network!\n",
    "    \"\"\"\n",
    "    network, X, y = args\n",
    "    ### your code here\n",
    "    set_weights(weights, network)\n",
    "    act = forward(network, X)\n",
    "    loss, output = NLL(act, y), grad_NLL(act, y)\n",
    "    grad_weights = []\n",
    "    for layer in network[::-1]:\n",
    "        output, w_wrt = layer.backward(output)\n",
    "        grad_weights += list(w_wrt)[::-1]\n",
    "    return loss, np.array(grad_weights[::-1])"
   ]
  },
  {
   "cell_type": "markdown",
   "metadata": {},
   "source": [
    "Теперь мы готовы обучать нашу нейросеть. "
   ]
  },
  {
   "cell_type": "code",
   "execution_count": 28,
   "metadata": {
    "ExecuteTime": {
     "end_time": "2021-03-03T14:44:52.175017Z",
     "start_time": "2021-03-03T14:44:52.148090Z"
    }
   },
   "outputs": [],
   "source": [
    "weights = get_weights(network)"
   ]
  },
  {
   "cell_type": "code",
   "execution_count": 29,
   "metadata": {
    "ExecuteTime": {
     "end_time": "2021-03-03T14:44:53.078366Z",
     "start_time": "2021-03-03T14:44:52.179006Z"
    }
   },
   "outputs": [],
   "source": [
    "res = minimize(\n",
    "    compute_loss_grad, weights,       # fun and start point\n",
    "    args=[network, X_train, y_train], # args passed to fun\n",
    "    method=\"L-BFGS-B\",                # optimization method\n",
    "    jac=True                          # says that gradient is computed in fun\n",
    ")"
   ]
  },
  {
   "cell_type": "code",
   "execution_count": 30,
   "metadata": {
    "ExecuteTime": {
     "end_time": "2021-03-03T14:44:53.093332Z",
     "start_time": "2021-03-03T14:44:53.081402Z"
    }
   },
   "outputs": [
    {
     "data": {
      "text/plain": [
       "dict_keys(['fun', 'jac', 'nfev', 'njev', 'nit', 'status', 'message', 'x', 'success', 'hess_inv'])"
      ]
     },
     "execution_count": 30,
     "metadata": {},
     "output_type": "execute_result"
    }
   ],
   "source": [
    "res.keys()"
   ]
  },
  {
   "cell_type": "code",
   "execution_count": 31,
   "metadata": {
    "ExecuteTime": {
     "end_time": "2021-03-03T14:44:53.109290Z",
     "start_time": "2021-03-03T14:44:53.096325Z"
    },
    "scrolled": true
   },
   "outputs": [
    {
     "data": {
      "text/plain": [
       "225"
      ]
     },
     "execution_count": 31,
     "metadata": {},
     "output_type": "execute_result"
    }
   ],
   "source": [
    "res[\"nit\"] # number of iterations (should be >> 10)"
   ]
  },
  {
   "cell_type": "code",
   "execution_count": 32,
   "metadata": {
    "ExecuteTime": {
     "end_time": "2021-03-03T14:44:53.125246Z",
     "start_time": "2021-03-03T14:44:53.112286Z"
    }
   },
   "outputs": [
    {
     "data": {
      "text/plain": [
       "True"
      ]
     },
     "execution_count": 32,
     "metadata": {},
     "output_type": "execute_result"
    }
   ],
   "source": [
    "res[\"success\"] # should be True"
   ]
  },
  {
   "cell_type": "code",
   "execution_count": 33,
   "metadata": {
    "ExecuteTime": {
     "end_time": "2021-03-03T14:44:53.140244Z",
     "start_time": "2021-03-03T14:44:53.128239Z"
    }
   },
   "outputs": [
    {
     "data": {
      "text/plain": [
       "array([-0.01196408, -0.0115938 , -0.00773071, ..., -0.49531843,\n",
       "       -1.19975938, -0.18102191])"
      ]
     },
     "execution_count": 33,
     "metadata": {},
     "output_type": "execute_result"
    }
   ],
   "source": [
    "res[\"x\"] # leraned weights"
   ]
  },
  {
   "cell_type": "markdown",
   "metadata": {},
   "source": [
    "Выведите качество на обучении (`X_train`, `y_train`) и на контроле (`X_test`, `y_test`). Не забудьте установить веса!"
   ]
  },
  {
   "cell_type": "code",
   "execution_count": 34,
   "metadata": {
    "ExecuteTime": {
     "end_time": "2021-03-03T14:44:53.172124Z",
     "start_time": "2021-03-03T14:44:53.144212Z"
    }
   },
   "outputs": [
    {
     "name": "stdout",
     "output_type": "stream",
     "text": [
      "Accuracy (Train / Test): 1.0 / 0.9466666666666667\n"
     ]
    }
   ],
   "source": [
    "### your code here\n",
    "acc_train = np.sum(predict(network, X_train) == y_train)/y_train.shape[0]\n",
    "acc_test = np.sum(predict(network, X_test) == y_test)/y_test.shape[0]\n",
    "print(f'Accuracy (Train / Test): {acc_train} / {acc_test}')"
   ]
  },
  {
   "cell_type": "markdown",
   "metadata": {},
   "source": [
    "У `minimize` есть также аргумент `callback` — в нее можно передать функцию, которая будет вызываться после каждой итерации оптимизации. Такую функцию удобно оформить в виде метода класса, который будет сохранять качество на обучении контроле после каждой итерации. Реализуйте этот метод в классе `Callback`:"
   ]
  },
  {
   "cell_type": "code",
   "execution_count": 35,
   "metadata": {
    "ExecuteTime": {
     "end_time": "2021-03-03T14:44:53.188082Z",
     "start_time": "2021-03-03T14:44:53.175117Z"
    }
   },
   "outputs": [],
   "source": [
    "class Callback:\n",
    "    def __init__(self, network, X_train, y_train, X_test, y_test, print=False):\n",
    "        self.network = network\n",
    "        self.X_train = X_train\n",
    "        self.X_test = X_test\n",
    "        self.y_train = y_train\n",
    "        self.y_test = y_test\n",
    "        self.print = print\n",
    "        self.train_acc = []\n",
    "        self.test_acc = []\n",
    "        \n",
    "    def call(self, weights):\n",
    "        \"\"\"\n",
    "        Computes quality on train and test set with given weights\n",
    "        and saves to self.train_acc and self.test_acc.\n",
    "        If self.print is True, also prints these 2 values\n",
    "        \"\"\"\n",
    "        ### your code here\n",
    "        self.train_acc.append(np.sum(predict(self.network, self.X_train) == self.y_train)/self.y_train.shape[0])\n",
    "        self.test_acc.append(np.sum(predict(self.network, self.X_test) == self.y_test)/self.y_test.shape[0])\n",
    "        if self.print is True:\n",
    "            print(\"Train_acc is\", self.train_acc[-1])\n",
    "            print(\"Test_acc is\", self.test_acc[-1])\n",
    "            print(\"--------------------------------\")"
   ]
  },
  {
   "cell_type": "code",
   "execution_count": 36,
   "metadata": {
    "ExecuteTime": {
     "end_time": "2021-03-03T14:44:54.497924Z",
     "start_time": "2021-03-03T14:44:53.191074Z"
    }
   },
   "outputs": [
    {
     "name": "stdout",
     "output_type": "stream",
     "text": [
      "Train_acc is 0.10616184112843356\n",
      "Test_acc is 0.08444444444444445\n",
      "--------------------------------\n",
      "Train_acc is 0.10170749814402376\n",
      "Test_acc is 0.10666666666666667\n",
      "--------------------------------\n",
      "Train_acc is 0.10170749814402376\n",
      "Test_acc is 0.10666666666666667\n",
      "--------------------------------\n",
      "Train_acc is 0.16258351893095768\n",
      "Test_acc is 0.14888888888888888\n",
      "--------------------------------\n",
      "Train_acc is 0.3184855233853007\n",
      "Test_acc is 0.2911111111111111\n",
      "--------------------------------\n",
      "Train_acc is 0.39123979213066074\n",
      "Test_acc is 0.3688888888888889\n",
      "--------------------------------\n",
      "Train_acc is 0.2873051224944321\n",
      "Test_acc is 0.2688888888888889\n",
      "--------------------------------\n",
      "Train_acc is 0.44766146993318484\n",
      "Test_acc is 0.4266666666666667\n",
      "--------------------------------\n",
      "Train_acc is 0.5270972531551597\n",
      "Test_acc is 0.4911111111111111\n",
      "--------------------------------\n",
      "Train_acc is 0.5389755011135857\n",
      "Test_acc is 0.5311111111111111\n",
      "--------------------------------\n",
      "Train_acc is 0.6065330363771344\n",
      "Test_acc is 0.5866666666666667\n",
      "--------------------------------\n",
      "Train_acc is 0.5991091314031181\n",
      "Test_acc is 0.5888888888888889\n",
      "--------------------------------\n",
      "Train_acc is 0.6391982182628062\n",
      "Test_acc is 0.6133333333333333\n",
      "--------------------------------\n",
      "Train_acc is 0.637713437268003\n",
      "Test_acc is 0.6111111111111112\n",
      "--------------------------------\n",
      "Train_acc is 0.6451373422420194\n",
      "Test_acc is 0.6111111111111112\n",
      "--------------------------------\n",
      "Train_acc is 0.6547884187082406\n",
      "Test_acc is 0.6222222222222222\n",
      "--------------------------------\n",
      "Train_acc is 0.6495916852264291\n",
      "Test_acc is 0.58\n",
      "--------------------------------\n",
      "Train_acc is 0.7253155159613957\n",
      "Test_acc is 0.6844444444444444\n",
      "--------------------------------\n",
      "Train_acc is 0.746844840386043\n",
      "Test_acc is 0.7111111111111111\n",
      "--------------------------------\n",
      "Train_acc is 0.755011135857461\n",
      "Test_acc is 0.7133333333333334\n",
      "--------------------------------\n",
      "Train_acc is 0.7594654788418709\n",
      "Test_acc is 0.7288888888888889\n",
      "--------------------------------\n",
      "Train_acc is 0.7572383073496659\n",
      "Test_acc is 0.7311111111111112\n",
      "--------------------------------\n",
      "Train_acc is 0.7787676317743133\n",
      "Test_acc is 0.7444444444444445\n",
      "--------------------------------\n",
      "Train_acc is 0.7980697847067557\n",
      "Test_acc is 0.7555555555555555\n",
      "--------------------------------\n",
      "Train_acc is 0.8040089086859689\n",
      "Test_acc is 0.7733333333333333\n",
      "--------------------------------\n",
      "Train_acc is 0.8203414996288048\n",
      "Test_acc is 0.7688888888888888\n",
      "--------------------------------\n",
      "Train_acc is 0.8240534521158129\n",
      "Test_acc is 0.7844444444444445\n",
      "--------------------------------\n",
      "Train_acc is 0.8255382331106161\n",
      "Test_acc is 0.7888888888888889\n",
      "--------------------------------\n",
      "Train_acc is 0.8307349665924276\n",
      "Test_acc is 0.7933333333333333\n",
      "--------------------------------\n",
      "Train_acc is 0.8366740905716407\n",
      "Test_acc is 0.8022222222222222\n",
      "--------------------------------\n",
      "Train_acc is 0.8426132145508537\n",
      "Test_acc is 0.8266666666666667\n",
      "--------------------------------\n",
      "Train_acc is 0.8559762435040832\n",
      "Test_acc is 0.84\n",
      "--------------------------------\n",
      "Train_acc is 0.8641425389755011\n",
      "Test_acc is 0.8511111111111112\n",
      "--------------------------------\n",
      "Train_acc is 0.8663697104677061\n",
      "Test_acc is 0.8377777777777777\n",
      "--------------------------------\n",
      "Train_acc is 0.8730512249443207\n",
      "Test_acc is 0.8533333333333334\n",
      "--------------------------------\n",
      "Train_acc is 0.8752783964365256\n",
      "Test_acc is 0.8533333333333334\n",
      "--------------------------------\n",
      "Train_acc is 0.8760207869339273\n",
      "Test_acc is 0.8577777777777778\n",
      "--------------------------------\n",
      "Train_acc is 0.874536005939124\n",
      "Test_acc is 0.8577777777777778\n",
      "--------------------------------\n",
      "Train_acc is 0.8767631774313289\n",
      "Test_acc is 0.86\n",
      "--------------------------------\n",
      "Train_acc is 0.882702301410542\n",
      "Test_acc is 0.8577777777777778\n",
      "--------------------------------\n",
      "Train_acc is 0.8789903489235338\n",
      "Test_acc is 0.8666666666666667\n",
      "--------------------------------\n",
      "Train_acc is 0.8819599109131403\n",
      "Test_acc is 0.8644444444444445\n",
      "--------------------------------\n",
      "Train_acc is 0.8812175204157386\n",
      "Test_acc is 0.8644444444444445\n",
      "--------------------------------\n",
      "Train_acc is 0.8871566443949518\n",
      "Test_acc is 0.8688888888888889\n",
      "--------------------------------\n",
      "Train_acc is 0.8834446919079436\n",
      "Test_acc is 0.8844444444444445\n",
      "--------------------------------\n",
      "Train_acc is 0.8916109873793615\n",
      "Test_acc is 0.8844444444444445\n",
      "--------------------------------\n",
      "Train_acc is 0.8982925018559762\n",
      "Test_acc is 0.8844444444444445\n",
      "--------------------------------\n",
      "Train_acc is 0.9057164068299925\n",
      "Test_acc is 0.8822222222222222\n",
      "--------------------------------\n",
      "Train_acc is 0.9072011878247959\n",
      "Test_acc is 0.8955555555555555\n",
      "--------------------------------\n",
      "Train_acc is 0.9086859688195991\n",
      "Test_acc is 0.8977777777777778\n",
      "--------------------------------\n",
      "Train_acc is 0.9131403118040089\n",
      "Test_acc is 0.9\n",
      "--------------------------------\n",
      "Train_acc is 0.9123979213066072\n",
      "Test_acc is 0.8933333333333333\n",
      "--------------------------------\n",
      "Train_acc is 0.9168522642910171\n",
      "Test_acc is 0.8911111111111111\n",
      "--------------------------------\n",
      "Train_acc is 0.9227913882702301\n",
      "Test_acc is 0.8955555555555555\n",
      "--------------------------------\n",
      "Train_acc is 0.9183370452858204\n",
      "Test_acc is 0.8977777777777778\n",
      "--------------------------------\n",
      "Train_acc is 0.9227913882702301\n",
      "Test_acc is 0.9022222222222223\n",
      "--------------------------------\n",
      "Train_acc is 0.9257609502598366\n",
      "Test_acc is 0.9111111111111111\n",
      "--------------------------------\n",
      "Train_acc is 0.9287305122494433\n",
      "Test_acc is 0.9111111111111111\n",
      "--------------------------------\n",
      "Train_acc is 0.9287305122494433\n",
      "Test_acc is 0.9133333333333333\n",
      "--------------------------------\n",
      "Train_acc is 0.9272457312546399\n",
      "Test_acc is 0.9133333333333333\n",
      "--------------------------------\n",
      "Train_acc is 0.9317000742390498\n",
      "Test_acc is 0.92\n",
      "--------------------------------\n",
      "Train_acc is 0.933184855233853\n",
      "Test_acc is 0.9177777777777778\n",
      "--------------------------------\n",
      "Train_acc is 0.9317000742390498\n",
      "Test_acc is 0.9177777777777778\n",
      "--------------------------------\n",
      "Train_acc is 0.9302152932442465\n",
      "Test_acc is 0.9155555555555556\n",
      "--------------------------------\n",
      "Train_acc is 0.9309576837416481\n",
      "Test_acc is 0.9111111111111111\n",
      "--------------------------------\n",
      "Train_acc is 0.9317000742390498\n",
      "Test_acc is 0.9177777777777778\n",
      "--------------------------------\n",
      "Train_acc is 0.9376391982182628\n",
      "Test_acc is 0.9222222222222223\n",
      "--------------------------------\n",
      "Train_acc is 0.9339272457312546\n",
      "Test_acc is 0.92\n",
      "--------------------------------\n",
      "Train_acc is 0.941351150705271\n",
      "Test_acc is 0.9177777777777778\n",
      "--------------------------------\n",
      "Train_acc is 0.9450631031922792\n",
      "Test_acc is 0.9222222222222223\n",
      "--------------------------------\n",
      "Train_acc is 0.9450631031922792\n",
      "Test_acc is 0.9244444444444444\n",
      "--------------------------------\n",
      "Train_acc is 0.9443207126948775\n",
      "Test_acc is 0.92\n",
      "--------------------------------\n",
      "Train_acc is 0.947290274684484\n",
      "Test_acc is 0.9222222222222223\n",
      "--------------------------------\n",
      "Train_acc is 0.9487750556792873\n",
      "Test_acc is 0.9266666666666666\n",
      "--------------------------------\n",
      "Train_acc is 0.9510022271714922\n",
      "Test_acc is 0.9288888888888889\n",
      "--------------------------------\n",
      "Train_acc is 0.949517446176689\n",
      "Test_acc is 0.9244444444444444\n",
      "--------------------------------\n",
      "Train_acc is 0.9517446176688938\n",
      "Test_acc is 0.9244444444444444\n",
      "--------------------------------\n",
      "Train_acc is 0.9517446176688938\n",
      "Test_acc is 0.9222222222222223\n",
      "--------------------------------\n",
      "Train_acc is 0.955456570155902\n",
      "Test_acc is 0.9266666666666666\n",
      "--------------------------------\n",
      "Train_acc is 0.9547141796585004\n",
      "Test_acc is 0.9266666666666666\n",
      "--------------------------------\n",
      "Train_acc is 0.9547141796585004\n",
      "Test_acc is 0.9244444444444444\n",
      "--------------------------------\n",
      "Train_acc is 0.955456570155902\n",
      "Test_acc is 0.9266666666666666\n",
      "--------------------------------\n",
      "Train_acc is 0.9539717891610987\n",
      "Test_acc is 0.9333333333333333\n",
      "--------------------------------\n",
      "Train_acc is 0.9569413511507052\n",
      "Test_acc is 0.9333333333333333\n",
      "--------------------------------\n",
      "Train_acc is 0.9547141796585004\n",
      "Test_acc is 0.9333333333333333\n",
      "--------------------------------\n",
      "Train_acc is 0.9561989606533037\n",
      "Test_acc is 0.9333333333333333\n",
      "--------------------------------\n",
      "Train_acc is 0.9591685226429102\n",
      "Test_acc is 0.9311111111111111\n",
      "--------------------------------\n",
      "Train_acc is 0.9643652561247216\n",
      "Test_acc is 0.9266666666666666\n",
      "--------------------------------\n",
      "Train_acc is 0.9651076466221232\n",
      "Test_acc is 0.9266666666666666\n",
      "--------------------------------\n",
      "Train_acc is 0.9628804751299184\n",
      "Test_acc is 0.9311111111111111\n",
      "--------------------------------\n",
      "Train_acc is 0.9665924276169265\n",
      "Test_acc is 0.9333333333333333\n",
      "--------------------------------\n",
      "Train_acc is 0.9688195991091314\n",
      "Test_acc is 0.9311111111111111\n",
      "--------------------------------\n",
      "Train_acc is 0.9673348181143281\n",
      "Test_acc is 0.9333333333333333\n",
      "--------------------------------\n",
      "Train_acc is 0.9673348181143281\n",
      "Test_acc is 0.9333333333333333\n",
      "--------------------------------\n",
      "Train_acc is 0.9688195991091314\n",
      "Test_acc is 0.9333333333333333\n",
      "--------------------------------\n",
      "Train_acc is 0.9673348181143281\n",
      "Test_acc is 0.9355555555555556\n",
      "--------------------------------\n",
      "Train_acc is 0.9665924276169265\n",
      "Test_acc is 0.9355555555555556\n",
      "--------------------------------\n",
      "Train_acc is 0.9665924276169265\n",
      "Test_acc is 0.94\n",
      "--------------------------------\n",
      "Train_acc is 0.9665924276169265\n",
      "Test_acc is 0.94\n",
      "--------------------------------\n",
      "Train_acc is 0.9710467706013363\n",
      "Test_acc is 0.94\n",
      "--------------------------------\n",
      "Train_acc is 0.9717891610987379\n",
      "Test_acc is 0.9377777777777778\n",
      "--------------------------------\n",
      "Train_acc is 0.9695619896065331\n",
      "Test_acc is 0.94\n",
      "--------------------------------\n",
      "Train_acc is 0.9680772086117297\n",
      "Test_acc is 0.9377777777777778\n",
      "--------------------------------\n",
      "Train_acc is 0.9688195991091314\n",
      "Test_acc is 0.9355555555555556\n",
      "--------------------------------\n",
      "Train_acc is 0.9717891610987379\n",
      "Test_acc is 0.9355555555555556\n",
      "--------------------------------\n",
      "Train_acc is 0.9703043801039347\n",
      "Test_acc is 0.9311111111111111\n",
      "--------------------------------\n",
      "Train_acc is 0.9762435040831478\n",
      "Test_acc is 0.9377777777777778\n",
      "--------------------------------\n",
      "Train_acc is 0.9784706755753526\n",
      "Test_acc is 0.9377777777777778\n",
      "--------------------------------\n",
      "Train_acc is 0.9792130660727543\n",
      "Test_acc is 0.94\n",
      "--------------------------------\n",
      "Train_acc is 0.9806978470675576\n",
      "Test_acc is 0.9422222222222222\n",
      "--------------------------------\n",
      "Train_acc is 0.9799554565701559\n",
      "Test_acc is 0.9377777777777778\n",
      "--------------------------------\n",
      "Train_acc is 0.9806978470675576\n",
      "Test_acc is 0.9333333333333333\n",
      "--------------------------------\n",
      "Train_acc is 0.9799554565701559\n",
      "Test_acc is 0.9355555555555556\n",
      "--------------------------------\n",
      "Train_acc is 0.9836674090571641\n",
      "Test_acc is 0.9311111111111111\n",
      "--------------------------------\n",
      "Train_acc is 0.9844097995545658\n",
      "Test_acc is 0.94\n",
      "--------------------------------\n",
      "Train_acc is 0.9844097995545658\n",
      "Test_acc is 0.94\n",
      "--------------------------------\n",
      "Train_acc is 0.9836674090571641\n",
      "Test_acc is 0.9422222222222222\n",
      "--------------------------------\n",
      "Train_acc is 0.9836674090571641\n",
      "Test_acc is 0.9377777777777778\n",
      "--------------------------------\n",
      "Train_acc is 0.9836674090571641\n",
      "Test_acc is 0.94\n",
      "--------------------------------\n",
      "Train_acc is 0.9844097995545658\n",
      "Test_acc is 0.9377777777777778\n",
      "--------------------------------\n",
      "Train_acc is 0.985894580549369\n",
      "Test_acc is 0.9355555555555556\n",
      "--------------------------------\n",
      "Train_acc is 0.985894580549369\n",
      "Test_acc is 0.9333333333333333\n",
      "--------------------------------\n",
      "Train_acc is 0.9873793615441723\n",
      "Test_acc is 0.9377777777777778\n",
      "--------------------------------\n",
      "Train_acc is 0.9873793615441723\n",
      "Test_acc is 0.9355555555555556\n",
      "--------------------------------\n",
      "Train_acc is 0.9873793615441723\n",
      "Test_acc is 0.9377777777777778\n",
      "--------------------------------\n",
      "Train_acc is 0.9896065330363771\n",
      "Test_acc is 0.9422222222222222\n",
      "--------------------------------\n",
      "Train_acc is 0.9888641425389755\n",
      "Test_acc is 0.9422222222222222\n",
      "--------------------------------\n",
      "Train_acc is 0.9888641425389755\n",
      "Test_acc is 0.9377777777777778\n",
      "--------------------------------\n",
      "Train_acc is 0.9888641425389755\n",
      "Test_acc is 0.9466666666666667\n",
      "--------------------------------\n",
      "Train_acc is 0.9881217520415738\n",
      "Test_acc is 0.9466666666666667\n",
      "--------------------------------\n",
      "Train_acc is 0.9881217520415738\n",
      "Test_acc is 0.9466666666666667\n",
      "--------------------------------\n",
      "Train_acc is 0.9873793615441723\n",
      "Test_acc is 0.9466666666666667\n",
      "--------------------------------\n",
      "Train_acc is 0.9888641425389755\n",
      "Test_acc is 0.9488888888888889\n",
      "--------------------------------\n",
      "Train_acc is 0.9888641425389755\n",
      "Test_acc is 0.9511111111111111\n",
      "--------------------------------\n",
      "Train_acc is 0.9903489235337788\n",
      "Test_acc is 0.9511111111111111\n",
      "--------------------------------\n",
      "Train_acc is 0.9903489235337788\n",
      "Test_acc is 0.9466666666666667\n",
      "--------------------------------\n",
      "Train_acc is 0.9910913140311804\n",
      "Test_acc is 0.9466666666666667\n",
      "--------------------------------\n",
      "Train_acc is 0.9925760950259837\n",
      "Test_acc is 0.9466666666666667\n",
      "--------------------------------\n",
      "Train_acc is 0.9933184855233853\n",
      "Test_acc is 0.9466666666666667\n",
      "--------------------------------\n",
      "Train_acc is 0.9933184855233853\n",
      "Test_acc is 0.9444444444444444\n",
      "--------------------------------\n",
      "Train_acc is 0.9933184855233853\n",
      "Test_acc is 0.9444444444444444\n",
      "--------------------------------\n",
      "Train_acc is 0.9962880475129918\n",
      "Test_acc is 0.9466666666666667\n",
      "--------------------------------\n",
      "Train_acc is 0.9955456570155902\n",
      "Test_acc is 0.9444444444444444\n",
      "--------------------------------\n",
      "Train_acc is 0.9955456570155902\n",
      "Test_acc is 0.9422222222222222\n",
      "--------------------------------\n",
      "Train_acc is 0.9962880475129918\n",
      "Test_acc is 0.94\n",
      "--------------------------------\n",
      "Train_acc is 0.9955456570155902\n",
      "Test_acc is 0.94\n",
      "--------------------------------\n",
      "Train_acc is 0.9948032665181886\n",
      "Test_acc is 0.94\n",
      "--------------------------------\n",
      "Train_acc is 0.9955456570155902\n",
      "Test_acc is 0.9422222222222222\n",
      "--------------------------------\n",
      "Train_acc is 0.9955456570155902\n",
      "Test_acc is 0.9444444444444444\n",
      "--------------------------------\n",
      "Train_acc is 0.9962880475129918\n",
      "Test_acc is 0.9444444444444444\n",
      "--------------------------------\n",
      "Train_acc is 0.9977728285077951\n",
      "Test_acc is 0.9444444444444444\n",
      "--------------------------------\n",
      "Train_acc is 0.9977728285077951\n",
      "Test_acc is 0.9444444444444444\n",
      "--------------------------------\n",
      "Train_acc is 0.9977728285077951\n",
      "Test_acc is 0.9466666666666667\n",
      "--------------------------------\n",
      "Train_acc is 0.9977728285077951\n",
      "Test_acc is 0.9488888888888889\n",
      "--------------------------------\n",
      "Train_acc is 0.9977728285077951\n",
      "Test_acc is 0.9444444444444444\n",
      "--------------------------------\n",
      "Train_acc is 0.9977728285077951\n",
      "Test_acc is 0.9444444444444444\n",
      "--------------------------------\n",
      "Train_acc is 0.9970304380103935\n",
      "Test_acc is 0.9444444444444444\n",
      "--------------------------------\n",
      "Train_acc is 0.9970304380103935\n",
      "Test_acc is 0.9488888888888889\n",
      "--------------------------------\n",
      "Train_acc is 0.9977728285077951\n",
      "Test_acc is 0.9466666666666667\n",
      "--------------------------------\n",
      "Train_acc is 0.9977728285077951\n",
      "Test_acc is 0.9466666666666667\n",
      "--------------------------------\n",
      "Train_acc is 0.9985152190051967\n",
      "Test_acc is 0.9444444444444444\n",
      "--------------------------------\n",
      "Train_acc is 0.9985152190051967\n",
      "Test_acc is 0.9466666666666667\n",
      "--------------------------------\n",
      "Train_acc is 0.9992576095025983\n",
      "Test_acc is 0.9488888888888889\n",
      "--------------------------------\n",
      "Train_acc is 0.9992576095025983\n",
      "Test_acc is 0.9488888888888889\n",
      "--------------------------------\n",
      "Train_acc is 1.0\n",
      "Test_acc is 0.9466666666666667\n",
      "--------------------------------\n",
      "Train_acc is 1.0\n",
      "Test_acc is 0.9466666666666667\n",
      "--------------------------------\n",
      "Train_acc is 1.0\n",
      "Test_acc is 0.9466666666666667\n",
      "--------------------------------\n",
      "Train_acc is 1.0\n",
      "Test_acc is 0.9488888888888889\n",
      "--------------------------------\n",
      "Train_acc is 1.0\n",
      "Test_acc is 0.9511111111111111\n",
      "--------------------------------\n",
      "Train_acc is 1.0\n",
      "Test_acc is 0.9511111111111111\n",
      "--------------------------------\n",
      "Train_acc is 1.0\n",
      "Test_acc is 0.9511111111111111\n",
      "--------------------------------\n",
      "Train_acc is 1.0\n",
      "Test_acc is 0.9488888888888889\n",
      "--------------------------------\n",
      "Train_acc is 1.0\n",
      "Test_acc is 0.9488888888888889\n",
      "--------------------------------\n",
      "Train_acc is 1.0\n",
      "Test_acc is 0.9511111111111111\n",
      "--------------------------------\n",
      "Train_acc is 1.0\n",
      "Test_acc is 0.9511111111111111\n",
      "--------------------------------\n",
      "Train_acc is 1.0\n",
      "Test_acc is 0.9511111111111111\n",
      "--------------------------------\n",
      "Train_acc is 1.0\n",
      "Test_acc is 0.9511111111111111\n",
      "--------------------------------\n",
      "Train_acc is 1.0\n",
      "Test_acc is 0.9466666666666667\n",
      "--------------------------------\n",
      "Train_acc is 1.0\n",
      "Test_acc is 0.9422222222222222\n",
      "--------------------------------\n",
      "Train_acc is 1.0\n",
      "Test_acc is 0.94\n",
      "--------------------------------\n",
      "Train_acc is 1.0\n",
      "Test_acc is 0.94\n",
      "--------------------------------\n",
      "Train_acc is 1.0\n",
      "Test_acc is 0.94\n",
      "--------------------------------\n",
      "Train_acc is 1.0\n",
      "Test_acc is 0.94\n",
      "--------------------------------\n",
      "Train_acc is 1.0\n",
      "Test_acc is 0.9422222222222222\n",
      "--------------------------------\n",
      "Train_acc is 1.0\n",
      "Test_acc is 0.94\n",
      "--------------------------------\n",
      "Train_acc is 1.0\n",
      "Test_acc is 0.9444444444444444\n",
      "--------------------------------\n",
      "Train_acc is 1.0\n",
      "Test_acc is 0.9444444444444444\n",
      "--------------------------------\n",
      "Train_acc is 1.0\n",
      "Test_acc is 0.9444444444444444\n",
      "--------------------------------\n",
      "Train_acc is 1.0\n",
      "Test_acc is 0.9466666666666667\n",
      "--------------------------------\n",
      "Train_acc is 1.0\n",
      "Test_acc is 0.9444444444444444\n",
      "--------------------------------\n",
      "Train_acc is 1.0\n",
      "Test_acc is 0.9444444444444444\n",
      "--------------------------------\n",
      "Train_acc is 1.0\n",
      "Test_acc is 0.9444444444444444\n",
      "--------------------------------\n",
      "Train_acc is 1.0\n",
      "Test_acc is 0.9444444444444444\n",
      "--------------------------------\n",
      "Train_acc is 1.0\n",
      "Test_acc is 0.9444444444444444\n",
      "--------------------------------\n",
      "Train_acc is 1.0\n",
      "Test_acc is 0.9466666666666667\n",
      "--------------------------------\n",
      "Train_acc is 1.0\n",
      "Test_acc is 0.9466666666666667\n",
      "--------------------------------\n",
      "Train_acc is 1.0\n",
      "Test_acc is 0.9466666666666667\n",
      "--------------------------------\n",
      "Train_acc is 1.0\n",
      "Test_acc is 0.9488888888888889\n",
      "--------------------------------\n",
      "Train_acc is 1.0\n",
      "Test_acc is 0.9466666666666667\n",
      "--------------------------------\n",
      "Train_acc is 1.0\n",
      "Test_acc is 0.9444444444444444\n",
      "--------------------------------\n",
      "Train_acc is 1.0\n",
      "Test_acc is 0.9444444444444444\n",
      "--------------------------------\n",
      "Train_acc is 1.0\n",
      "Test_acc is 0.9444444444444444\n",
      "--------------------------------\n",
      "Train_acc is 1.0\n",
      "Test_acc is 0.9488888888888889\n",
      "--------------------------------\n",
      "Train_acc is 1.0\n",
      "Test_acc is 0.9488888888888889\n",
      "--------------------------------\n",
      "Train_acc is 1.0\n",
      "Test_acc is 0.9533333333333334\n",
      "--------------------------------\n",
      "Train_acc is 1.0\n",
      "Test_acc is 0.9488888888888889\n",
      "--------------------------------\n",
      "Train_acc is 1.0\n",
      "Test_acc is 0.9511111111111111\n",
      "--------------------------------\n",
      "Train_acc is 1.0\n",
      "Test_acc is 0.9533333333333334\n",
      "--------------------------------\n",
      "Train_acc is 1.0\n",
      "Test_acc is 0.9533333333333334\n",
      "--------------------------------\n",
      "Train_acc is 1.0\n",
      "Test_acc is 0.9533333333333334\n",
      "--------------------------------\n",
      "Train_acc is 1.0\n",
      "Test_acc is 0.9533333333333334\n",
      "--------------------------------\n",
      "Train_acc is 1.0\n",
      "Test_acc is 0.9511111111111111\n",
      "--------------------------------\n",
      "Train_acc is 1.0\n",
      "Test_acc is 0.9511111111111111\n",
      "--------------------------------\n",
      "Train_acc is 1.0\n",
      "Test_acc is 0.9511111111111111\n",
      "--------------------------------\n",
      "Train_acc is 1.0\n",
      "Test_acc is 0.9533333333333334\n",
      "--------------------------------\n",
      "Train_acc is 1.0\n",
      "Test_acc is 0.9488888888888889\n",
      "--------------------------------\n",
      "Train_acc is 1.0\n",
      "Test_acc is 0.9466666666666667\n",
      "--------------------------------\n",
      "Train_acc is 1.0\n",
      "Test_acc is 0.9488888888888889\n",
      "--------------------------------\n",
      "Train_acc is 1.0\n",
      "Test_acc is 0.9466666666666667\n",
      "--------------------------------\n",
      "Train_acc is 1.0\n",
      "Test_acc is 0.9466666666666667\n",
      "--------------------------------\n",
      "Train_acc is 1.0\n",
      "Test_acc is 0.9466666666666667\n",
      "--------------------------------\n",
      "Train_acc is 1.0\n",
      "Test_acc is 0.9444444444444444\n",
      "--------------------------------\n",
      "Train_acc is 1.0\n",
      "Test_acc is 0.9444444444444444\n",
      "--------------------------------\n",
      "Train_acc is 1.0\n",
      "Test_acc is 0.9444444444444444\n",
      "--------------------------------\n",
      "Train_acc is 1.0\n",
      "Test_acc is 0.9466666666666667\n",
      "--------------------------------\n"
     ]
    }
   ],
   "source": [
    "cb = Callback(network, X_train, y_train, X_test, y_test, print=True)\n",
    "\n",
    "res = minimize(\n",
    "    compute_loss_grad, weights,  \n",
    "    args=[network, X_train, y_train], \n",
    "    method=\"L-BFGS-B\",\n",
    "    jac=True,\n",
    "    callback=cb.call\n",
    ")"
   ]
  },
  {
   "cell_type": "markdown",
   "metadata": {},
   "source": [
    "Изобразите на графике кривую качества на обучени и контроле по итерациям:"
   ]
  },
  {
   "cell_type": "code",
   "execution_count": 37,
   "metadata": {
    "ExecuteTime": {
     "end_time": "2021-03-03T14:44:54.816117Z",
     "start_time": "2021-03-03T14:44:54.500922Z"
    }
   },
   "outputs": [
    {
     "data": {
      "image/png": "[encoded data removed]",
      "text/plain": [
       "<Figure size 720x360 with 1 Axes>"
      ]
     },
     "metadata": {
      "needs_background": "light"
     },
     "output_type": "display_data"
    }
   ],
   "source": [
    "fig, ax = plt.subplots(1, 1, figsize=(10, 5))\n",
    "ax.plot(cb.train_acc, label=\"train acc\")\n",
    "ax.plot(cb.test_acc, label=\"test acc\")\n",
    "ax.set_xlabel(\"Iteration\")\n",
    "ax.set_ylabel(\"Accuracy\")\n",
    "ax.grid(True)\n",
    "ax.legend()\n",
    "\n",
    "fig.tight_layout()\n",
    "plt.show()"
   ]
  },
  {
   "cell_type": "markdown",
   "metadata": {},
   "source": [
    "## Эксперименты с числом слоев (1 балл)"
   ]
  },
  {
   "cell_type": "markdown",
   "metadata": {},
   "source": [
    "Ясно, что из-за случайного начального приближения с каждым запуском обучения мы будем получать различное качество. Попробуем обучить нашу нейросеть с разным числом слоев несколько раз.\n",
    "\n",
    "Заполните матрицы `accs_train` и `accs_test`. В позиции `[i, j]` должна стоять величина доли правильных ответов сети с $i+1$ полносвязными слоями при $j$-м запуске (все запуски идентичны)."
   ]
  },
  {
   "cell_type": "code",
   "execution_count": 96,
   "metadata": {
    "ExecuteTime": {
     "end_time": "2021-03-03T14:44:54.832074Z",
     "start_time": "2021-03-03T14:44:54.819071Z"
    }
   },
   "outputs": [],
   "source": [
    "accs_train = np.zeros((5, 5))\n",
    "accs_test = np.zeros((5, 5))"
   ]
  },
  {
   "cell_type": "code",
   "execution_count": 97,
   "metadata": {
    "ExecuteTime": {
     "end_time": "2021-03-03T14:45:56.444624Z",
     "start_time": "2021-03-03T14:44:54.836024Z"
    }
   },
   "outputs": [],
   "source": [
    "### your code here\n",
    "for i in range(5):\n",
    "    for j in range(5):\n",
    "        network = make_network(input_size, hidden_layers_size, output_size, i+1, ReLU)\n",
    "        weights = get_weights(network)\n",
    "        res = minimize(compute_loss_grad, weights, args=[network, X_train, y_train], method=\"L-BFGS-B\", jac=True)\n",
    "        accs_train[i,j] = np.sum(predict(network, X_train) == y_train)/y_train.shape[0]\n",
    "        accs_test[i,j] = np.sum(predict(network, X_test) == y_test)/y_test.shape[0]"
   ]
  },
  {
   "cell_type": "markdown",
   "metadata": {},
   "source": [
    "Построим боксплоты полученного качества (горизонтальная линия в каждом столбце — среднее, прямоугольник показывает разброс)."
   ]
  },
  {
   "cell_type": "code",
   "execution_count": 98,
   "metadata": {
    "ExecuteTime": {
     "end_time": "2021-03-03T14:45:57.060827Z",
     "start_time": "2021-03-03T14:45:56.447467Z"
    }
   },
   "outputs": [
    {
     "data": {
      "image/png": "[encoded data removed]",
      "text/plain": [
       "<Figure size 720x576 with 2 Axes>"
      ]
     },
     "metadata": {
      "needs_background": "light"
     },
     "output_type": "display_data"
    }
   ],
   "source": [
    "fig, axes = plt.subplots(2, 1, figsize=(10, 8))\n",
    "\n",
    "axes[0].boxplot(accs_train.T, showfliers=False)\n",
    "axes[1].boxplot(accs_test.T, showfliers=False)\n",
    "\n",
    "axes[0].set_xlabel(\"Number of layers\")\n",
    "axes[1].set_xlabel(\"Number of layers\")\n",
    "\n",
    "axes[0].set_ylabel(\"Train accuracy\")\n",
    "axes[1].set_ylabel(\"Test accuracy\")\n",
    "\n",
    "axes[0].set_title(\"Train quality in 5 runs\")\n",
    "axes[1].set_title(\"Test quality in 5 runs\")\n",
    "\n",
    "axes[0].grid(True)\n",
    "axes[1].grid(True)\n",
    "\n",
    "fig.tight_layout()\n",
    "plt.show()"
   ]
  },
  {
   "cell_type": "markdown",
   "metadata": {},
   "source": [
    "Дайте развёрнутый ответ на вопросы (в этой же ячейке):\n",
    "* Как изменяются качество на обучении и контроле и устойчивость процесса обучения при увеличении числа слоев?\n",
    "* Можно ли сказать, что логистическая регрессия (линейная модель) дает качество хуже, чем нелинейная модель?\n",
    "\n",
    "__Ответы:__\n",
    "\n",
    "Качество на обучении является максимальным вне зависимости количества слоев. На тесте качество также зависит и от инциализации весов, при текущих инциализациях среднее качество хуже у нейронной сети с 5 слоями. Также нейронная сеть с 5 слоями показывает наибольший разброс, наименьший разброс показывает нейронная сеть с 1 слоем, что свидетьствует о наилучшей устойчивости процесса обучения и объяснимо меньшим числом параметров инициализации, от которых может меняться точность. Следовательно по этой причине имеет место сказать, что логистическая регрессия (линейная модель) дает качество лучше, чем нелинейная модель в плане устойчивости."
   ]
  },
  {
   "cell_type": "markdown",
   "metadata": {},
   "source": [
    "## Эксперименты c различными инициализациями весов (1 балл)"
   ]
  },
  {
   "cell_type": "markdown",
   "metadata": {},
   "source": [
    "Как уже было сказано, начальная инициализация весов нейронной сети может сильно влиять на процесс ее обучения и, как следствие, на ее качество.\n",
    "\n",
    "В этом пункте вам предлагается попробовать обучить несколько нейронных сетей с различными инициализациями слоев.\n",
    "\n",
    "Для этого необходимо реализовать функцию, инициализирующую веса линейных слоёв нашей нейронной сети. Добавьте в функционал данного метода возможность инициализировать его веса с помощью инициализации Kaiming (используется, если в нейронной сети в качестве функций активации используется ReLU) и инициализации Xavier (используется, если в нейронной сети в качестве функций активации используется Tanh или Sigmoid):"
   ]
  },
  {
   "cell_type": "code",
   "execution_count": 99,
   "metadata": {
    "ExecuteTime": {
     "end_time": "2021-03-03T14:45:57.075786Z",
     "start_time": "2021-03-03T14:45:57.063819Z"
    },
    "code_folding": []
   },
   "outputs": [],
   "source": [
    "def initialize_network(network, initialization):\n",
    "    for layer in network:\n",
    "        if isinstance(layer, Dense):\n",
    "            input_units, output_units = layer.weights.shape\n",
    "            if initialization == 'Kaiming':\n",
    "                ### your code here\n",
    "                layer.weights = np.random.randn(input_units, output_units) * np.sqrt(2 / (input_units+output_units))\n",
    "            elif initialization == 'Xavier':\n",
    "                ### your code here\n",
    "                layer.weights = 2*np.sqrt(3/input_units)*np.random.random_sample((input_units, output_units))-np.sqrt(3/input_units)\n",
    "            else:\n",
    "                # Initialize weights with small random numbers from normal distribution.\n",
    "                # In this case `initialization` represents a standard deviation\n",
    "                # for normal distribution.\n",
    "                layer.weights = np.random.randn(input_units, output_units) * initialization\n",
    "            layer.biases = np.zeros_like(layer.biases)\n",
    "            \n",
    "            layer.params = [layer.weights, layer.biases]"
   ]
  },
  {
   "cell_type": "markdown",
   "metadata": {},
   "source": [
    "Теперь попробуйте для каждой из 3 инициализаций обучить нейронную сеть несколько раз. Попробуйте проделать данную операцию при зафиксированном числе слоев равным 3, 4 и 5."
   ]
  },
  {
   "cell_type": "markdown",
   "metadata": {},
   "source": [
    "### 3 слоя\n",
    "\n",
    "Зафиксируйте в сети число слоев равное трем."
   ]
  },
  {
   "cell_type": "markdown",
   "metadata": {},
   "source": [
    "Заполните матрицы `accs_train` и `accs_test`. В позиции `[i, j]` должна стоять величина доли правильных ответов сети при $j$-м запуске (все запуски идентичны) с инициализацией Kaiming при $i = 3$, с инициализацией Xavier при $i = 4$ и с инициализацией из нормального распределения с фиксированными параметрами при $0 \\leqslant i \\leqslant 2$ (попробуйте здесь 3 разных параметра для стандартного отклонения для нормального распределения, например: `1e-3`, `1e-2`, `1e-1`). Заметьте, что при большом числе слоев слишком низкое стандартное отклонение может не давать нейронной сети нормально обучиться."
   ]
  },
  {
   "cell_type": "code",
   "execution_count": 100,
   "metadata": {
    "ExecuteTime": {
     "end_time": "2021-03-03T14:45:57.091744Z",
     "start_time": "2021-03-03T14:45:57.079777Z"
    }
   },
   "outputs": [],
   "source": [
    "init_vars = [1e-3, 1e-2, 1e-1, 'Kaiming', 'Xavier']"
   ]
  },
  {
   "cell_type": "code",
   "execution_count": 101,
   "metadata": {
    "ExecuteTime": {
     "end_time": "2021-03-03T14:45:57.107701Z",
     "start_time": "2021-03-03T14:45:57.094737Z"
    }
   },
   "outputs": [],
   "source": [
    "accs_train = np.zeros((5, 5))\n",
    "accs_test = np.zeros((5, 5))"
   ]
  },
  {
   "cell_type": "code",
   "execution_count": 102,
   "metadata": {
    "ExecuteTime": {
     "end_time": "2021-03-03T14:46:27.904407Z",
     "start_time": "2021-03-03T14:45:57.111690Z"
    }
   },
   "outputs": [],
   "source": [
    "### your code here\n",
    "for i in range(5):\n",
    "    for j in range(5):\n",
    "        network = make_network(input_size, hidden_layers_size, output_size, 3, ReLU)\n",
    "        initialize_network(network, init_vars[i])\n",
    "        weights = get_weights(network)\n",
    "        res = minimize(compute_loss_grad, weights, args=[network, X_train, y_train], method=\"L-BFGS-B\", jac=True)\n",
    "        accs_train[i,j] = np.sum(predict(network, X_train) == y_train)/y_train.shape[0]\n",
    "        accs_test[i,j] = np.sum(predict(network, X_test) == y_test)/y_test.shape[0]"
   ]
  },
  {
   "cell_type": "markdown",
   "metadata": {},
   "source": [
    "Построим боксплоты полученного качества (горизонтальная линия в каждом столбце — среднее, прямоугольник показывает разброс)."
   ]
  },
  {
   "cell_type": "code",
   "execution_count": 103,
   "metadata": {
    "ExecuteTime": {
     "end_time": "2021-03-03T14:46:28.632502Z",
     "start_time": "2021-03-03T14:46:27.907401Z"
    }
   },
   "outputs": [
    {
     "data": {
      "image/png": "[encoded data removed]",
      "text/plain": [
       "<Figure size 720x360 with 1 Axes>"
      ]
     },
     "metadata": {
      "needs_background": "light"
     },
     "output_type": "display_data"
    }
   ],
   "source": [
    "init_vars_for_plot = [(x if isinstance(x, str) else fr\"$\\sigma = {x}$\") for x in init_vars]\n",
    "\n",
    "fig, ax = plt.subplots(1, 1, figsize=(10, 5))\n",
    "\n",
    "ax.boxplot(accs_test.T, labels=init_vars_for_plot, showfliers=False)\n",
    "\n",
    "ax.set_title(\"Test quality in 5 runs\")\n",
    "ax.set_xlabel(\"Initialization\")\n",
    "ax.set_ylabel(\"Test accuracy\")\n",
    "ax.grid(True)\n",
    "\n",
    "fig.tight_layout()\n",
    "plt.show()"
   ]
  },
  {
   "cell_type": "code",
   "execution_count": 104,
   "metadata": {},
   "outputs": [
    {
     "data": {
      "image/png": "[encoded data removed]",
      "text/plain": [
       "<Figure size 720x360 with 1 Axes>"
      ]
     },
     "metadata": {
      "needs_background": "light"
     },
     "output_type": "display_data"
    }
   ],
   "source": [
    "init_vars_for_plot = [(x if isinstance(x, str) else fr\"$\\sigma = {x}$\") for x in init_vars]\n",
    "\n",
    "fig, ax = plt.subplots(1, 1, figsize=(10, 5))\n",
    "\n",
    "ax.boxplot(accs_train.T, labels=init_vars_for_plot, showfliers=False)\n",
    "\n",
    "ax.set_title(\"Train quality in 5 runs\")\n",
    "ax.set_xlabel(\"Initialization\")\n",
    "ax.set_ylabel(\"Train accuracy\")\n",
    "ax.grid(True)\n",
    "\n",
    "fig.tight_layout()\n",
    "plt.show()"
   ]
  },
  {
   "cell_type": "markdown",
   "metadata": {},
   "source": [
    "### 4 слоя\n",
    "\n",
    "Выполните тут тот же код, что и в предыдущем пункте, но только уже с 4 слоями в сети."
   ]
  },
  {
   "cell_type": "code",
   "execution_count": 105,
   "metadata": {
    "ExecuteTime": {
     "end_time": "2021-03-03T14:45:57.091744Z",
     "start_time": "2021-03-03T14:45:57.079777Z"
    }
   },
   "outputs": [],
   "source": [
    "init_vars = [5e-3, 1e-2, 1e-1, 'Kaiming', 'Xavier']"
   ]
  },
  {
   "cell_type": "code",
   "execution_count": 106,
   "metadata": {
    "ExecuteTime": {
     "end_time": "2021-03-03T14:45:57.107701Z",
     "start_time": "2021-03-03T14:45:57.094737Z"
    }
   },
   "outputs": [],
   "source": [
    "accs_train = np.zeros((5, 5))\n",
    "accs_test = np.zeros((5, 5))"
   ]
  },
  {
   "cell_type": "code",
   "execution_count": 107,
   "metadata": {
    "ExecuteTime": {
     "end_time": "2021-03-03T14:46:27.904407Z",
     "start_time": "2021-03-03T14:45:57.111690Z"
    }
   },
   "outputs": [],
   "source": [
    "### your code here\n",
    "for i in range(5):\n",
    "    for j in range(5):\n",
    "        network = make_network(input_size, hidden_layers_size, output_size, 4, ReLU)\n",
    "        initialize_network(network, init_vars[i])\n",
    "        weights = get_weights(network)\n",
    "        res = minimize(compute_loss_grad, weights, args=[network, X_train, y_train], method=\"L-BFGS-B\", jac=True)\n",
    "        accs_train[i,j] = np.sum(predict(network, X_train) == y_train)/y_train.shape[0]\n",
    "        accs_test[i,j] = np.sum(predict(network, X_test) == y_test)/y_test.shape[0]"
   ]
  },
  {
   "cell_type": "markdown",
   "metadata": {},
   "source": [
    "Построим боксплоты полученного качества (горизонтальная линия в каждом столбце — среднее, прямоугольник показывает разброс)."
   ]
  },
  {
   "cell_type": "code",
   "execution_count": 108,
   "metadata": {
    "ExecuteTime": {
     "end_time": "2021-03-03T14:46:28.632502Z",
     "start_time": "2021-03-03T14:46:27.907401Z"
    }
   },
   "outputs": [
    {
     "data": {
      "image/png": "[encoded data removed]",
      "text/plain": [
       "<Figure size 720x360 with 1 Axes>"
      ]
     },
     "metadata": {
      "needs_background": "light"
     },
     "output_type": "display_data"
    }
   ],
   "source": [
    "init_vars_for_plot = [(x if isinstance(x, str) else fr\"$\\sigma = {x}$\") for x in init_vars]\n",
    "\n",
    "fig, ax = plt.subplots(1, 1, figsize=(10, 5))\n",
    "\n",
    "ax.boxplot(accs_test.T, labels=init_vars_for_plot, showfliers=False)\n",
    "\n",
    "ax.set_title(\"Test quality in 5 runs\")\n",
    "ax.set_xlabel(\"Initialization\")\n",
    "ax.set_ylabel(\"Test accuracy\")\n",
    "ax.grid(True)\n",
    "\n",
    "fig.tight_layout()\n",
    "plt.show()"
   ]
  },
  {
   "cell_type": "code",
   "execution_count": 109,
   "metadata": {},
   "outputs": [
    {
     "data": {
      "image/png": "[encoded data removed]",
      "text/plain": [
       "<Figure size 720x360 with 1 Axes>"
      ]
     },
     "metadata": {
      "needs_background": "light"
     },
     "output_type": "display_data"
    }
   ],
   "source": [
    "init_vars_for_plot = [(x if isinstance(x, str) else fr\"$\\sigma = {x}$\") for x in init_vars]\n",
    "\n",
    "fig, ax = plt.subplots(1, 1, figsize=(10, 5))\n",
    "\n",
    "ax.boxplot(accs_train.T, labels=init_vars_for_plot, showfliers=False)\n",
    "\n",
    "ax.set_title(\"Train quality in 5 runs\")\n",
    "ax.set_xlabel(\"Initialization\")\n",
    "ax.set_ylabel(\"Train accuracy\")\n",
    "ax.grid(True)\n",
    "\n",
    "fig.tight_layout()\n",
    "plt.show()"
   ]
  },
  {
   "cell_type": "markdown",
   "metadata": {},
   "source": [
    "### 5 слоев\n",
    "\n",
    "Выполните тут тот же код, что и в предыдущем пункте, но только уже с 5 слоями в сети."
   ]
  },
  {
   "cell_type": "code",
   "execution_count": 115,
   "metadata": {
    "ExecuteTime": {
     "end_time": "2021-03-03T14:45:57.091744Z",
     "start_time": "2021-03-03T14:45:57.079777Z"
    }
   },
   "outputs": [],
   "source": [
    "init_vars = [1e-2, 1e-1, 1e0, 'Kaiming', 'Xavier']"
   ]
  },
  {
   "cell_type": "code",
   "execution_count": 116,
   "metadata": {
    "ExecuteTime": {
     "end_time": "2021-03-03T14:45:57.107701Z",
     "start_time": "2021-03-03T14:45:57.094737Z"
    }
   },
   "outputs": [],
   "source": [
    "accs_train = np.zeros((5, 5))\n",
    "accs_test = np.zeros((5, 5))"
   ]
  },
  {
   "cell_type": "code",
   "execution_count": 117,
   "metadata": {
    "ExecuteTime": {
     "end_time": "2021-03-03T14:46:27.904407Z",
     "start_time": "2021-03-03T14:45:57.111690Z"
    }
   },
   "outputs": [],
   "source": [
    "### your code here\n",
    "for i in range(5):\n",
    "    for j in range(5):\n",
    "        network = make_network(input_size, hidden_layers_size, output_size, 5, ReLU)\n",
    "        initialize_network(network, init_vars[i])\n",
    "        weights = get_weights(network)\n",
    "        res = minimize(compute_loss_grad, weights, args=[network, X_train, y_train], method=\"L-BFGS-B\", jac=True)\n",
    "        accs_train[i,j] = np.sum(predict(network, X_train) == y_train)/y_train.shape[0]\n",
    "        accs_test[i,j] = np.sum(predict(network, X_test) == y_test)/y_test.shape[0]"
   ]
  },
  {
   "cell_type": "markdown",
   "metadata": {},
   "source": [
    "Построим боксплоты полученного качества (горизонтальная линия в каждом столбце — среднее, прямоугольник показывает разброс)."
   ]
  },
  {
   "cell_type": "code",
   "execution_count": 118,
   "metadata": {
    "ExecuteTime": {
     "end_time": "2021-03-03T14:46:28.632502Z",
     "start_time": "2021-03-03T14:46:27.907401Z"
    }
   },
   "outputs": [
    {
     "data": {
      "image/png": "[encoded data removed]",
      "text/plain": [
       "<Figure size 720x360 with 1 Axes>"
      ]
     },
     "metadata": {
      "needs_background": "light"
     },
     "output_type": "display_data"
    }
   ],
   "source": [
    "init_vars_for_plot = [(x if isinstance(x, str) else fr\"$\\sigma = {x}$\") for x in init_vars]\n",
    "\n",
    "fig, ax = plt.subplots(1, 1, figsize=(10, 5))\n",
    "\n",
    "ax.boxplot(accs_test.T, labels=init_vars_for_plot, showfliers=False)\n",
    "\n",
    "ax.set_title(\"Test quality in 5 runs\")\n",
    "ax.set_xlabel(\"Initialization\")\n",
    "ax.set_ylabel(\"Test accuracy\")\n",
    "ax.grid(True)\n",
    "\n",
    "fig.tight_layout()\n",
    "plt.show()"
   ]
  },
  {
   "cell_type": "code",
   "execution_count": 121,
   "metadata": {},
   "outputs": [
    {
     "data": {
      "image/png": "[encoded data removed]",
      "text/plain": [
       "<Figure size 720x360 with 1 Axes>"
      ]
     },
     "metadata": {
      "needs_background": "light"
     },
     "output_type": "display_data"
    }
   ],
   "source": [
    "init_vars_for_plot = [(x if isinstance(x, str) else fr\"$\\sigma = {x}$\") for x in init_vars]\n",
    "\n",
    "fig, ax = plt.subplots(1, 1, figsize=(10, 5))\n",
    "\n",
    "ax.boxplot(accs_train.T, labels=init_vars_for_plot, showfliers=False)\n",
    "\n",
    "ax.set_title(\"Train quality in 5 runs\")\n",
    "ax.set_xlabel(\"Initialization\")\n",
    "ax.set_ylabel(\"Train accuracy\")\n",
    "ax.grid(True)\n",
    "\n",
    "fig.tight_layout()\n",
    "plt.show()"
   ]
  },
  {
   "cell_type": "markdown",
   "metadata": {},
   "source": [
    "Дайте развёрнутый ответ на вопросы (в этой же ячейке):\n",
    "* Как отличаются качество на обучении и контроле и устойчивость процесса обучения при различных инициализациях?\n",
    "* Какие инициализации помогают обучать более глубокие сети?\n",
    "\n",
    "__Ответы:__\n",
    "Графики качества на обучении дополнительно приведены выше. С инициализацией из нормального распределения с параметром `1e-1` получилась наихудшая устойчивость процесса обучения вне завсимости от количества слоев. В плане средней точности лучшие результаты показали инициализации Kaiming и Xavier, однако Kaiming имеет меньший разброс, поэтому наиболее оптимально использовать инициализацию Kaiming вместе с функцией активации ReLU, особенно при обучении более глубоких нейронных сетей (сеть с 5 слоями)."
   ]
  },
  {
   "cell_type": "markdown",
   "metadata": {},
   "source": [
    "Теперь сравним скорость обучения при различных инициализациях. Создайте два списка списков `accs_test_on_iterations`, `accs_train_on_iterations` в каждом из которых в позиции `[i]` (см. описание `i` в предыдущем пункте) будет лежать список из значений `accuracy` на тестовой и обучающей выборках соотвественно, полученных во время обучения модели. Количество слоев в сети зафиксируйте равным 4."
   ]
  },
  {
   "cell_type": "code",
   "execution_count": 168,
   "metadata": {
    "ExecuteTime": {
     "end_time": "2021-03-03T14:45:57.091744Z",
     "start_time": "2021-03-03T14:45:57.079777Z"
    }
   },
   "outputs": [],
   "source": [
    "init_vars = [1e-3, 1e-2, 1e-1, 'Kaiming', 'Xavier']"
   ]
  },
  {
   "cell_type": "code",
   "execution_count": 169,
   "metadata": {
    "ExecuteTime": {
     "end_time": "2021-03-03T14:46:28.647453Z",
     "start_time": "2021-03-03T14:46:28.635495Z"
    }
   },
   "outputs": [],
   "source": [
    "accs_test_on_iterations = []\n",
    "accs_train_on_iterations = []"
   ]
  },
  {
   "cell_type": "code",
   "execution_count": 170,
   "metadata": {
    "ExecuteTime": {
     "end_time": "2021-03-03T14:46:34.433662Z",
     "start_time": "2021-03-03T14:46:28.650417Z"
    }
   },
   "outputs": [],
   "source": [
    "### your code here\n",
    "for init in init_vars:\n",
    "    network = make_network(input_size, hidden_layers_size, output_size, 4, ReLU)\n",
    "    initialize_network(network, init)\n",
    "    weights = get_weights(network)\n",
    "    cb = Callback(network, X_train, y_train, X_test, y_test)\n",
    "    res = minimize(\n",
    "        compute_loss_grad, weights,  \n",
    "        args=[network, X_train, y_train], \n",
    "        method=\"L-BFGS-B\",\n",
    "        jac=True,\n",
    "        callback=cb.call\n",
    "    )\n",
    "    accs_train_on_iterations.append(cb.train_acc)\n",
    "    accs_test_on_iterations.append(cb.test_acc)"
   ]
  },
  {
   "cell_type": "code",
   "execution_count": 171,
   "metadata": {},
   "outputs": [
    {
     "data": {
      "image/png": "[encoded data removed]",
      "text/plain": [
       "<Figure size 720x360 with 1 Axes>"
      ]
     },
     "metadata": {
      "needs_background": "light"
     },
     "output_type": "display_data"
    }
   ],
   "source": [
    "fig, ax = plt.subplots(1, 1, figsize=(10, 5))\n",
    "\n",
    "for idx, label in enumerate(init_vars_for_plot):\n",
    "    ax.plot(accs_test_on_iterations[idx], label=label)\n",
    "\n",
    "ax.set_title(\"Test quality for different initializations\")\n",
    "ax.set_xlabel(\"Epoch number\")\n",
    "ax.set_ylabel(\"Test accuracy\")\n",
    "ax.grid(True)\n",
    "ax.legend()\n",
    "\n",
    "fig.tight_layout()\n",
    "plt.show()"
   ]
  },
  {
   "cell_type": "markdown",
   "metadata": {
    "ExecuteTime": {
     "end_time": "2021-03-03T14:37:15.087902Z",
     "start_time": "2021-03-03T14:37:15.065996Z"
    }
   },
   "source": [
    "Дайте развёрнутый ответ на вопросы (в этой же ячейке):\n",
    "* Как меняется скорость обучения в зависимости от выбранной инициализации?\n",
    "\n",
    "__Ответы:__\n",
    "\n",
    "Данный эксперимент показал, что сети с инциализациями из нормального распределния обучаются дольше, чем с Kaiming и Xavier. Исключением является инициализация из нормального распределения с парметром `1e-1`, однако в экспериментах выше эта инициализация показала худшее качество, что объясняет такую скорость обучения."
   ]
  },
  {
   "cell_type": "markdown",
   "metadata": {},
   "source": [
    "## Эксперименты c различными функциями активации (1 балл)"
   ]
  },
  {
   "cell_type": "markdown",
   "metadata": {},
   "source": [
    "Проверим теперь, с какой функцией активации нейронная сеть будет обучаться лучше.\n",
    "\n",
    "В этом пункте вам предлагается попробовать обучить несколько нейронных сетей с различными функциями активации.\n",
    "\n",
    "Для этого нам нужно реализовать еще 2 слоя: для функций активации `Tanh` и `Sigmoid`."
   ]
  },
  {
   "cell_type": "code",
   "execution_count": 172,
   "metadata": {
    "ExecuteTime": {
     "end_time": "2021-03-03T14:46:34.891308Z",
     "start_time": "2021-03-03T14:46:34.878379Z"
    }
   },
   "outputs": [],
   "source": [
    "class Tanh:\n",
    "    \"\"\"\n",
    "    tanh(y) = (e^y - e^(-y)) / (e^y + e^(-y))\n",
    "    Используйте функцию np.tanh для подсчета гиперболического тангенса.\n",
    "    Вы можете сами реализовать подсчет tanh, но тогда вам нужно устойчиво его вычислять.\n",
    "    \"\"\"\n",
    "    def __init__(self):\n",
    "        self.params = [] # Tanh has no parameters\n",
    "\n",
    "    def forward(self, input):\n",
    "        \"\"\"\n",
    "        Apply elementwise Tanh to [batch, num_units] matrix\n",
    "        \"\"\"\n",
    "        ### your code here\n",
    "        self.tanh = np.tanh(input)\n",
    "        return np.tanh(input)\n",
    "\n",
    "    def backward(self, grad_output):\n",
    "        \"\"\"\n",
    "        Compute gradient of loss w.r.t. Tanh input\n",
    "        grad_output shape: [batch, num_units]\n",
    "        output 1 shape: [batch, num_units]\n",
    "        output 2: []\n",
    "        \"\"\"\n",
    "        ### your code here\n",
    "        return grad_output * (1 - self.tanh**2), []\n",
    "\n",
    "    def __repr__(self):\n",
    "        return 'Tanh()'"
   ]
  },
  {
   "cell_type": "code",
   "execution_count": 173,
   "metadata": {
    "ExecuteTime": {
     "end_time": "2021-03-03T14:46:34.907337Z",
     "start_time": "2021-03-03T14:46:34.894300Z"
    }
   },
   "outputs": [],
   "source": [
    "from scipy.special import expit\n",
    "    \n",
    "class Sigmoid:\n",
    "    \"\"\"\n",
    "    sigmoid(y) = 1 / (1 + e^(-y))\n",
    "    Используйте функцию expit для подсчета сигмоиды.\n",
    "    Вы можете сами реализовать подсчет сигмоиды, но тогда вам нужно устойчиво ее вычислять.\n",
    "    \"\"\"\n",
    "    def __init__(self):\n",
    "        self.params = [] # Sigmoid has no parameters\n",
    "\n",
    "    def forward(self, input):\n",
    "        \"\"\"\n",
    "        Apply elementwise Sigmoid to [batch, num_units] matrix\n",
    "        \"\"\"\n",
    "        ### your code here\n",
    "        self.sigmoid = expit(input)\n",
    "        return expit(input)\n",
    "\n",
    "    def backward(self, grad_output):\n",
    "        \"\"\"\n",
    "        Compute gradient of loss w.r.t. Sigmoid input\n",
    "        grad_output shape: [batch, num_units]\n",
    "        output 1 shape: [batch, num_units]\n",
    "        output 2: []\n",
    "        \"\"\"\n",
    "        ### your code here\n",
    "        return grad_output*self.sigmoid*(1-self.sigmoid), []\n",
    "\n",
    "    def __repr__(self):\n",
    "        return 'Sigmoid()'"
   ]
  },
  {
   "cell_type": "markdown",
   "metadata": {},
   "source": [
    "Теперь попробуйте для каждой из 3 функций активации обучить нейронную сеть несколько раз. Число слоев зафиксируйте равным 3. В случае `Tanh` и `Sigmoid` используйте инициализацию `Xavier`, а в случае `ReLU` используйте инициализацию `Kaiming`."
   ]
  },
  {
   "cell_type": "markdown",
   "metadata": {},
   "source": [
    "Заполните матрицы `accs_train` и `accs_test`. В позиции `[i, j]` должна стоять величина доли правильных ответов сети при $j$-м запуске (все запуски идентичны) с функцией активации $ReLU$ при $i = 0$, с функцией активации $Tanh$ при $i = 1$ и с функцией активации $Sigmoid$ при $i = 2$."
   ]
  },
  {
   "cell_type": "code",
   "execution_count": 183,
   "metadata": {
    "ExecuteTime": {
     "end_time": "2021-03-03T14:46:34.922732Z",
     "start_time": "2021-03-03T14:46:34.910271Z"
    }
   },
   "outputs": [],
   "source": [
    "act_func_vars = ['Tanh', 'Sigmoid', 'ReLU']\n",
    "init_for_act_funcs = ['Xavier', 'Xavier', 'Kaiming']"
   ]
  },
  {
   "cell_type": "code",
   "execution_count": 184,
   "metadata": {
    "ExecuteTime": {
     "end_time": "2021-03-03T14:46:34.938935Z",
     "start_time": "2021-03-03T14:46:34.925724Z"
    }
   },
   "outputs": [],
   "source": [
    "accs_train = np.zeros((3, 5))\n",
    "accs_test = np.zeros((3, 5))"
   ]
  },
  {
   "cell_type": "code",
   "execution_count": 185,
   "metadata": {
    "ExecuteTime": {
     "end_time": "2021-03-03T14:47:04.514986Z",
     "start_time": "2021-03-03T14:46:34.941104Z"
    }
   },
   "outputs": [],
   "source": [
    "### your code here\n",
    "d = dict(zip(act_func_vars, [Tanh, Sigmoid, ReLU]))\n",
    "for i in range(3):\n",
    "    for j in range(5):\n",
    "        network = make_network(input_size, hidden_layers_size, output_size, 3, d[act_func_vars[i]])\n",
    "        initialize_network(network, init_vars[i])\n",
    "        weights = get_weights(network)\n",
    "        res = minimize(compute_loss_grad, weights, args=[network, X_train, y_train], method=\"L-BFGS-B\", jac=True)\n",
    "        accs_train[i,j] = np.sum(predict(network, X_train) == y_train)/y_train.shape[0]\n",
    "        accs_test[i,j] = np.sum(predict(network, X_test) == y_test)/y_test.shape[0]"
   ]
  },
  {
   "cell_type": "markdown",
   "metadata": {},
   "source": [
    "Построим боксплоты полученного качества (горизонтальная линия в каждом столбце — среднее, прямоугольник показывает разброс)."
   ]
  },
  {
   "cell_type": "code",
   "execution_count": 186,
   "metadata": {
    "ExecuteTime": {
     "end_time": "2021-03-03T14:47:04.783320Z",
     "start_time": "2021-03-03T14:47:04.517701Z"
    }
   },
   "outputs": [
    {
     "data": {
      "image/png": "[encoded data removed]",
      "text/plain": [
       "<Figure size 720x360 with 1 Axes>"
      ]
     },
     "metadata": {
      "needs_background": "light"
     },
     "output_type": "display_data"
    }
   ],
   "source": [
    "fig, ax = plt.subplots(1, 1, figsize=(10, 5))\n",
    "\n",
    "ax.boxplot(accs_test.T, labels=act_func_vars, showfliers=False)\n",
    "\n",
    "ax.set_title(\"Test quality in 5 runs\")\n",
    "ax.set_xlabel(\"Activation function\")\n",
    "ax.set_ylabel(\"Test accuracy\")\n",
    "ax.grid(True)\n",
    "\n",
    "fig.tight_layout()\n",
    "plt.show()"
   ]
  },
  {
   "cell_type": "code",
   "execution_count": 187,
   "metadata": {},
   "outputs": [
    {
     "data": {
      "image/png": "[encoded data removed]",
      "text/plain": [
       "<Figure size 720x360 with 1 Axes>"
      ]
     },
     "metadata": {
      "needs_background": "light"
     },
     "output_type": "display_data"
    }
   ],
   "source": [
    "fig, ax = plt.subplots(1, 1, figsize=(10, 5))\n",
    "\n",
    "ax.boxplot(accs_train.T, labels=act_func_vars, showfliers=False)\n",
    "\n",
    "ax.set_title(\"Train quality in 5 runs\")\n",
    "ax.set_xlabel(\"Activation function\")\n",
    "ax.set_ylabel(\"Train accuracy\")\n",
    "ax.grid(True)\n",
    "\n",
    "fig.tight_layout()\n",
    "plt.show()"
   ]
  },
  {
   "cell_type": "markdown",
   "metadata": {},
   "source": [
    "Дайте развёрнутый ответ на вопросы (в этой же ячейке):\n",
    "* Как отличаются качество на обучении и контроле и устойчивость процесса обучения при различных функциях активации?\n",
    "\n",
    "__Ответы:__\n",
    "\n",
    "Качество и устойчивость процесса обучения максимальны на обучении для всех сетей, рассматреваемых в данном эксперименте. На контроле лучше себя показала ReLU с иницализацией Kaiming, преимущество использования этой функции над сигмоидой объснялось в теоретической части."
   ]
  },
  {
   "cell_type": "markdown",
   "metadata": {},
   "source": [
    "\\* Несколько фрагментов кода в задании написаны на основе материалов [курса по глубинному обучению на ФКН НИУ ВШЭ](https://www.hse.ru/ba/ami/courses/205504078.html)"
   ]
  },
  {
   "cell_type": "markdown",
   "metadata": {},
   "source": [
    "## Бонусная часть"
   ]
  },
  {
   "cell_type": "markdown",
   "metadata": {},
   "source": [
    "## Реализация метода оптимизации (1 балл)\n",
    "\n",
    "Реализуйте сами метод оптимизации (аналог функции `minimize`) для рассмотренной выше архитектуры. В качестве метода оптимизации используйте SGD + momentum. Продемонстрируйте правильную работу метода оптимизации, сравните его работу с LBFGS-B. Сделайте выводы."
   ]
  },
  {
   "cell_type": "code",
   "execution_count": 339,
   "metadata": {},
   "outputs": [],
   "source": [
    "import time\n",
    "\n",
    "class SGDClassifier():\n",
    "    \"\"\"\n",
    "    Реализация метода стохастического градиентного спуска для произвольного\n",
    "    оракула, соответствующего спецификации оракулов из модуля oracles.py\n",
    "    \"\"\"\n",
    "\n",
    "    def __init__(\n",
    "        self, comp_loss_grad, batch_size, step_gamma=0.5, step_h=0.5,\n",
    "        tolerance=1e-5, max_iter=1000, random_seed=153):\n",
    "\n",
    "        self.comp_loss_grad = comp_loss_grad\n",
    "        self.batch_size = batch_size\n",
    "        self.gamma, self.h = step_gamma, step_h\n",
    "        self.tolerance, self.max_iter = tolerance, max_iter\n",
    "        np.random.seed(random_seed)\n",
    "\n",
    "    def my_minimize(self, X, y, net, X_test=None, y_test=None, v_0=None, trace=False, log_freq=1):\n",
    "\n",
    "        history = {'epoch_num': [0], 'time': [0], 'func': [], 'weights_diff': [0], 'acc': []}\n",
    "        \n",
    "        self.w = get_weights(net)\n",
    "        v = self.w\n",
    "\n",
    "        history['func'].append(self.comp_loss_grad(self.w, [net, X, y])[0])\n",
    "        if X_test is not None:\n",
    "            history['acc'].append((predict(net, X_test) == y_test).sum() / len(y_test))\n",
    "        loss = history['func'][0]\n",
    "        sgd_processed, num_changer = 0, 0\n",
    "        prev_time = time.time()\n",
    "\n",
    "        i = 0\n",
    "        while i < self.max_iter:\n",
    "            r = np.random.permutation(X.shape[0])\n",
    "            X_r, y_r = X[r], y[r]\n",
    "            prev_w = self.w\n",
    "            epoch_num = sgd_processed / y.shape[0]\n",
    "            epoch_iter = 1\n",
    "\n",
    "            while epoch_num - num_changer <= log_freq:\n",
    "                X_ep = X_r[(epoch_iter-1)*self.batch_size: self.batch_size*epoch_iter]\n",
    "                y_ep = y_r[(epoch_iter-1)*self.batch_size: self.batch_size*epoch_iter]\n",
    "                input_size = X_ep.shape[1]\n",
    "                hidden_layers_size = 32\n",
    "                output_size = 10\n",
    "                nn = make_network(input_size, hidden_layers_size, output_size, 3, ReLU)\n",
    "                set_weights(self.w, nn)\n",
    "\n",
    "                v = self.gamma*v + (1-self.gamma) * self.comp_loss_grad(self.w, [nn, X_ep, y_ep])[1]\n",
    "                self.w = self.w - self.h*v\n",
    "                set_weights(self.w, net)\n",
    "                sgd_processed += self.batch_size\n",
    "                epoch_num = sgd_processed / y.shape[0]\n",
    "                epoch_iter += 1\n",
    "                i += 1\n",
    "                if i >= self.max_iter:\n",
    "                    if trace:\n",
    "                        return history\n",
    "                    else:\n",
    "                        return\n",
    "            set_weights(self.w, net)\n",
    "            new_loss = (predict(net, X) == y).sum() / len(y)\n",
    "\n",
    "            if epoch_num - num_changer > log_freq:\n",
    "                num_changer = epoch_num\n",
    "                curr_time = time.time()\n",
    "                if trace:\n",
    "                    history['epoch_num'].append(epoch_num)\n",
    "                    history['time'].append(curr_time - prev_time)\n",
    "                    history['func'].append(new_loss)\n",
    "                    history['weights_diff'].append(np.linalg.norm(self.w - prev_w) ** 2)\n",
    "                    if X_test is not None:\n",
    "                        history['acc'].append((predict(net, X_test) == y_test).sum() / len(y_test))\n",
    "                prev_time = curr_time\n",
    "\n",
    "            if history['acc'][-1] > 0.9:\n",
    "                print(new_loss)\n",
    "                break\n",
    "            loss = new_loss\n",
    "\n",
    "        if trace:\n",
    "            return history"
   ]
  },
  {
   "cell_type": "code",
   "execution_count": 345,
   "metadata": {},
   "outputs": [
    {
     "data": {
      "text/plain": [
       "(1484.187082405345, 0.11555555555555555)"
      ]
     },
     "execution_count": 345,
     "metadata": {},
     "output_type": "execute_result"
    }
   ],
   "source": [
    "input_size = X_train.shape[1]\n",
    "hidden_layers_size = 32\n",
    "output_size = 10\n",
    "\n",
    "network = make_network(input_size, hidden_layers_size, output_size, 3, ReLU)\n",
    "\n",
    "clf = SGDClassifier(compute_loss_grad, 200, step_gamma=0.5, step_h=500,\n",
    "        tolerance=1e-5, max_iter=10000, random_seed=153)\n",
    "story = clf.my_minimize(X_train, y_train, network, X_test, y_test, trace=True, log_freq=1)\n",
    "story['epoch_num'][-1], story['acc'][-1]"
   ]
  },
  {
   "cell_type": "markdown",
   "metadata": {},
   "source": [
    "К сожаленнию, добиться схожей точности на контроле с LBFGS-B не удалось, так как в сгс с моментумом есть ряд параметров, которые необходимо подобрать, чтобы они качественно работали в совокупнсоти."
   ]
  },
  {
   "cell_type": "markdown",
   "metadata": {},
   "source": [
    "## Dropout (1 балл) \n",
    "\n",
    "Реализуйте слой Dropout. Сравните обучение сети из большого числа слоёв при использовании Dropout и без его использования (предварительно подберите адекватный параметр $p$). Сделайте выводы."
   ]
  },
  {
   "cell_type": "markdown",
   "metadata": {},
   "source": [
    "## BatchNormalization (1 балл)\n",
    "\n",
    "Реализуйте слой `BatchNormalization`. Сравните обучение сети из большого числа слоёв при использовании `BatchNormalization` и без его использования. Сделайте выводы."
   ]
  }
 ],
 "metadata": {
  "kernelspec": {
   "display_name": "Python 3",
   "language": "python",
   "name": "python3"
  },
  "language_info": {
   "codemirror_mode": {
    "name": "ipython",
    "version": 3
   },
   "file_extension": ".py",
   "mimetype": "text/x-python",
   "name": "python",
   "nbconvert_exporter": "python",
   "pygments_lexer": "ipython3",
   "version": "3.8.3"
  }
 },
 "nbformat": 4,
 "nbformat_minor": 4
}
